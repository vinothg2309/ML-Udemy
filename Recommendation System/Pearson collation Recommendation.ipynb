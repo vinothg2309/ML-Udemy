{
 "cells": [
  {
   "cell_type": "markdown",
   "id": "2c7653b2",
   "metadata": {},
   "source": [
    "### Book Recommendation system¶\n",
    "Dataset url: http://www2.informatik.uni-freiburg.de/~cziegler/BX/\n",
    "https://github.com/krishnaik06/Recommendation_complete_tutorial/tree/master/KNN%20Books%20Recommendation"
   ]
  },
  {
   "cell_type": "code",
   "execution_count": null,
   "id": "1a672e9c",
   "metadata": {},
   "outputs": [],
   "source": []
  }
 ],
 "metadata": {
  "kernelspec": {
   "display_name": "Python 3",
   "language": "python",
   "name": "python3"
  },
  "language_info": {
   "codemirror_mode": {
    "name": "ipython",
    "version": 3
   },
   "file_extension": ".py",
   "mimetype": "text/x-python",
   "name": "python",
   "nbconvert_exporter": "python",
   "pygments_lexer": "ipython3",
   "version": "3.8.5"
  }
 },
 "nbformat": 4,
 "nbformat_minor": 5
}
