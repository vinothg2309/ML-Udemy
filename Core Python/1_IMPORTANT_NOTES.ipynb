{
 "cells": [
  {
   "cell_type": "markdown",
   "id": "d23f370a-01bf-46b8-a01e-d4d14143d3ef",
   "metadata": {},
   "source": [
    "# Double underscore\n",
    "\n",
    "- In Python, the use of an underscore in a **function name indicates that the function is intended for internal use and should not be called directly by users**. \n",
    "- It is a convention used to indicate that the **function is \"private\" and not part of the public API of the module. However, it is not enforced by the language and can still be called by the user if they choose to do so.**"
   ]
  },
  {
   "cell_type": "code",
   "execution_count": 2,
   "id": "922f5e60-a11d-4d6a-a545-e51e95e31daa",
   "metadata": {},
   "outputs": [],
   "source": [
    "class Car:\n",
    "    def __internal__(self):\n",
    "        print('Calling underscore method')\n",
    "    \n",
    "    def test(self, drive):\n",
    "        print('test ', drive)"
   ]
  },
  {
   "cell_type": "code",
   "execution_count": 7,
   "id": "7a5c9d43-799d-46f0-83db-d1681b6f7f83",
   "metadata": {},
   "outputs": [
    {
     "name": "stdout",
     "output_type": "stream",
     "text": [
      "Calling underscore method\n",
      "test  driving...\n"
     ]
    }
   ],
   "source": [
    "c = Car()\n",
    "# It is a convention used to indicate that the **function is \"private\" and not part of the public API of the module. \n",
    "# However, it is not enforced by the language and can still be called by the user if they choose to do so\n",
    "c.__internal__()\n",
    "c.test('driving...')"
   ]
  },
  {
   "cell_type": "markdown",
   "id": "a0fde82d-51af-4596-977a-4a344a9e3d2d",
   "metadata": {},
   "source": [
    "# Module & Package\n",
    "\n",
    "The main difference between a module and a package in Python is that \n",
    "- a module is a **simple Python script with a .py extension file** that contains collections of functions and global variables.\n",
    "- In contrast, a package is a **directory that contains a collection of modules, and this directory also contains an __init__.py file by which the interpreter interprets it as a package.**\n",
    "\n",
    "Code is available in **Module_Package** folder"
   ]
  },
  {
   "cell_type": "markdown",
   "id": "c489ed27-90e5-4c12-b5fb-881e60143633",
   "metadata": {},
   "source": [
    "## Module\n",
    "\n",
    "In Python, a module can be a **simple python file (.py extension file), i.e., a combination of numerous functions that we can use to provide different functionalities in a program.**\n",
    "\n",
    "**The Module Search Path**\n",
    "\n",
    "When the interpreter executes the import statement, it searches for .py in a list of directories assembled from the following sources:\n",
    "\n",
    "- The directory from which the input script was run or the current directory if the interpreter is being run interactively\n",
    "- The list of directories contained in the PYTHONPATH environment variable, if it is set. (The format for PYTHONPATH is OS-dependent but should mimic the PATH environment variable.)\n",
    "- An installation-dependent list of directories configured at the time Python is installed\n",
    "\n",
    "The resulting search path is accessible in the Python variable sys.path, which is obtained from a module named sys:\n"
   ]
  },
  {
   "cell_type": "code",
   "execution_count": 9,
   "id": "a2192639-73f6-47c3-b6e7-3b8ab6c848f5",
   "metadata": {},
   "outputs": [
    {
     "data": {
      "text/plain": [
       "['D:\\\\Vinoth\\\\Learnings\\\\ML\\\\Machine-Learning-main\\\\Core Python',\n",
       " 'C:\\\\Users\\\\vinot\\\\anaconda3\\\\python39.zip',\n",
       " 'C:\\\\Users\\\\vinot\\\\anaconda3\\\\DLLs',\n",
       " 'C:\\\\Users\\\\vinot\\\\anaconda3\\\\lib',\n",
       " 'C:\\\\Users\\\\vinot\\\\anaconda3',\n",
       " '',\n",
       " 'C:\\\\Users\\\\vinot\\\\anaconda3\\\\lib\\\\site-packages',\n",
       " 'C:\\\\Users\\\\vinot\\\\anaconda3\\\\lib\\\\site-packages\\\\win32',\n",
       " 'C:\\\\Users\\\\vinot\\\\anaconda3\\\\lib\\\\site-packages\\\\win32\\\\lib',\n",
       " 'C:\\\\Users\\\\vinot\\\\anaconda3\\\\lib\\\\site-packages\\\\Pythonwin',\n",
       " 'C:\\\\Users\\\\vinot\\\\anaconda3\\\\lib\\\\site-packages\\\\IPython\\\\extensions',\n",
       " 'C:\\\\Users\\\\vinot\\\\.ipython']"
      ]
     },
     "execution_count": 9,
     "metadata": {},
     "output_type": "execute_result"
    }
   ],
   "source": [
    "import sys\n",
    "sys.path"
   ]
  },
  {
   "cell_type": "markdown",
   "id": "4f0dddfe-a1c9-4702-a8d2-d38d18227160",
   "metadata": {},
   "source": [
    "## Package\n",
    "\n",
    "- To create large-scale-based real-world applications, we divide **large code into smaller pieces to perform different functionalities, resulting in many modules**.\n",
    "- To collaborate with all of the modules, we create a Python package with an **__init__.py file that informs the Python Interpreter that the given folder is a Python Package.**"
   ]
  },
  {
   "cell_type": "markdown",
   "id": "ba6a8acf-2995-4148-a32d-af4aff667838",
   "metadata": {},
   "source": [
    "# Pass\n",
    "\n",
    "The pass statement is used as a placeholder for future code.\n",
    "\n",
    "When the pass statement is executed, nothing happens, but you avoid getting an error when empty code is not allowed.\n",
    "\n",
    "Empty code is not allowed in loops, function definitions, class definitions, or in if statements."
   ]
  },
  {
   "cell_type": "markdown",
   "id": "c1312f47-aced-42c8-9f71-03663a3f792f",
   "metadata": {},
   "source": [
    "# decorators in Python\n",
    "\n",
    "In Python, decorators are necessary functions that help add functionality to an existing function without changing the structure of the function at all. These are represented by @decorator_name in Python and are called in a bottom-up format."
   ]
  },
  {
   "cell_type": "code",
   "execution_count": 6,
   "id": "f11c2fbb-2f03-4696-aa10-df8e0fbfb8a0",
   "metadata": {},
   "outputs": [
    {
     "name": "stdout",
     "output_type": "stream",
     "text": [
      "Inside intro\n"
     ]
    },
    {
     "data": {
      "text/plain": [
       "'hello,i am sam'"
      ]
     },
     "execution_count": 6,
     "metadata": {},
     "output_type": "execute_result"
    }
   ],
   "source": [
    "def decorator_lowercase(function):   # defining python decorator\n",
    "    def wrapper():\n",
    "        func = function()\n",
    "        input_lowercase = func.lower()\n",
    "        return input_lowercase\n",
    "    return wrapper\n",
    "\n",
    "@decorator_lowercase    ##calling decoractor\n",
    "def intro():                        #Normal function\n",
    "    print('Inside intro')\n",
    "    return 'Hello,I AM SAM'\n",
    "\n",
    "intro()"
   ]
  },
  {
   "cell_type": "markdown",
   "id": "fc4dfd4c-875b-4317-8dc7-8d0c37b1b3fb",
   "metadata": {},
   "source": [
    "# Inheritance\n",
    "\n",
    "Code is available in Basics/Inheritance.ipynb"
   ]
  },
  {
   "cell_type": "code",
   "execution_count": null,
   "id": "4a21a7d9-a9df-42f5-b694-c6dac9a9ea29",
   "metadata": {},
   "outputs": [],
   "source": []
  }
 ],
 "metadata": {
  "kernelspec": {
   "display_name": "Python 3 (ipykernel)",
   "language": "python",
   "name": "python3"
  },
  "language_info": {
   "codemirror_mode": {
    "name": "ipython",
    "version": 3
   },
   "file_extension": ".py",
   "mimetype": "text/x-python",
   "name": "python",
   "nbconvert_exporter": "python",
   "pygments_lexer": "ipython3",
   "version": "3.9.13"
  }
 },
 "nbformat": 4,
 "nbformat_minor": 5
}
