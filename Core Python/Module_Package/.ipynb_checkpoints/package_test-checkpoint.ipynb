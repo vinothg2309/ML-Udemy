{
 "cells": [
  {
   "cell_type": "code",
   "execution_count": 8,
   "id": "0c3a84f6-1dca-47f3-b59c-994938064a23",
   "metadata": {},
   "outputs": [
    {
     "name": "stdout",
     "output_type": "stream",
     "text": [
      "[mod1] foo()\n",
      "None\n",
      "[mod2] bar()\n",
      "None\n",
      "<package.mod2.Bar object at 0x00000210DA125B20>\n"
     ]
    }
   ],
   "source": [
    "import package.mod1, package.mod2\n",
    "print(package.mod1.foo())\n",
    "print(package.mod2.bar())\n",
    "print(package.mod2.Bar())"
   ]
  },
  {
   "cell_type": "code",
   "execution_count": 9,
   "id": "8b573abf-8943-4701-8f52-703e1fe8ea24",
   "metadata": {},
   "outputs": [
    {
     "name": "stdout",
     "output_type": "stream",
     "text": [
      "[mod1] foo()\n",
      "None\n",
      "[mod2] bar()\n",
      "None\n"
     ]
    }
   ],
   "source": [
    "from package import mod1\n",
    "from package import mod2\n",
    "\n",
    "print(mod1.foo())\n",
    "print(mod2.bar())"
   ]
  },
  {
   "cell_type": "code",
   "execution_count": null,
   "id": "02fd2fd4-b081-4950-a63a-596c7c303183",
   "metadata": {},
   "outputs": [],
   "source": []
  }
 ],
 "metadata": {
  "kernelspec": {
   "display_name": "Python 3 (ipykernel)",
   "language": "python",
   "name": "python3"
  },
  "language_info": {
   "codemirror_mode": {
    "name": "ipython",
    "version": 3
   },
   "file_extension": ".py",
   "mimetype": "text/x-python",
   "name": "python",
   "nbconvert_exporter": "python",
   "pygments_lexer": "ipython3",
   "version": "3.9.13"
  }
 },
 "nbformat": 4,
 "nbformat_minor": 5
}
