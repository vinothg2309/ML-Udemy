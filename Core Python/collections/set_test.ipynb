{
 "cells": [
  {
   "cell_type": "markdown",
   "id": "a1297be4-1a10-4c89-89f3-16b827a74711",
   "metadata": {},
   "source": [
    "# Set\n",
    "\n",
    "- Sets are used to store multiple items in a single variable.\n",
    "- A set is a collection which is **unordered, unchangeable, and unindexed.**"
   ]
  },
  {
   "cell_type": "code",
   "execution_count": 1,
   "id": "c6e83c59-733a-44ba-a6a3-e6c249bfae50",
   "metadata": {},
   "outputs": [
    {
     "name": "stdout",
     "output_type": "stream",
     "text": [
      "{'cherry', 'apple', 'banana'}\n"
     ]
    }
   ],
   "source": [
    "thisset = {\"apple\", \"banana\", \"cherry\", \"apple\"}\n",
    "\n",
    "print(thisset)"
   ]
  },
  {
   "cell_type": "code",
   "execution_count": 17,
   "id": "a107ab7a-3f0b-4bec-a7f5-61fe6f60f019",
   "metadata": {},
   "outputs": [
    {
     "name": "stdout",
     "output_type": "stream",
     "text": [
      "True & 1 considered as same\n",
      "{True, 2, 'banana', 'cherry', 'apple'}\n",
      "{True, 2, 'banana', 'cherry', 'apple', 'test'}\n",
      "{True, 2, 'cherry', 'apple', 'test'}\n",
      "Iterate\n",
      "*******\n",
      "True\n",
      "2\n",
      "cherry\n",
      "apple\n",
      "test\n"
     ]
    },
    {
     "ename": "TypeError",
     "evalue": "'set' object is not subscriptable",
     "output_type": "error",
     "traceback": [
      "\u001b[1;31m---------------------------------------------------------------------------\u001b[0m",
      "\u001b[1;31mTypeError\u001b[0m                                 Traceback (most recent call last)",
      "\u001b[1;32m~\\AppData\\Local\\Temp\\ipykernel_16248\\280456680.py\u001b[0m in \u001b[0;36m<module>\u001b[1;34m\u001b[0m\n\u001b[0;32m     13\u001b[0m     \u001b[0mprint\u001b[0m\u001b[1;33m(\u001b[0m\u001b[0mi\u001b[0m\u001b[1;33m)\u001b[0m\u001b[1;33m\u001b[0m\u001b[1;33m\u001b[0m\u001b[0m\n\u001b[0;32m     14\u001b[0m \u001b[1;33m\u001b[0m\u001b[0m\n\u001b[1;32m---> 15\u001b[1;33m \u001b[0mthisset\u001b[0m\u001b[1;33m[\u001b[0m\u001b[1;36m1\u001b[0m\u001b[1;33m]\u001b[0m\u001b[1;33m\u001b[0m\u001b[1;33m\u001b[0m\u001b[0m\n\u001b[0m",
      "\u001b[1;31mTypeError\u001b[0m: 'set' object is not subscriptable"
     ]
    }
   ],
   "source": [
    "print('True & 1 considered as same')\n",
    "thisset = {\"apple\", \"banana\", \"cherry\", True, 1, 2}\n",
    "\n",
    "print(thisset)\n",
    "thisset.add(\"test\")\n",
    "print(thisset)\n",
    "\n",
    "thisset.remove('banana')\n",
    "print(thisset)\n",
    "\n",
    "print('Iterate','*'*len('Iterate'), sep='\\n')\n",
    "for i in thisset:\n",
    "    print(i)\n",
    "    "
   ]
  },
  {
   "cell_type": "code",
   "execution_count": null,
   "id": "9963b4e0-581d-47de-b86b-0041db832a37",
   "metadata": {},
   "outputs": [],
   "source": []
  }
 ],
 "metadata": {
  "kernelspec": {
   "display_name": "Python 3 (ipykernel)",
   "language": "python",
   "name": "python3"
  },
  "language_info": {
   "codemirror_mode": {
    "name": "ipython",
    "version": 3
   },
   "file_extension": ".py",
   "mimetype": "text/x-python",
   "name": "python",
   "nbconvert_exporter": "python",
   "pygments_lexer": "ipython3",
   "version": "3.9.13"
  }
 },
 "nbformat": 4,
 "nbformat_minor": 5
}
