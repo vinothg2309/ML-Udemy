{
 "cells": [
  {
   "cell_type": "markdown",
   "id": "541d131a-1f7a-466d-89a2-e8d62d3ed7cc",
   "metadata": {},
   "source": [
    "# Ordered Dictionary\n",
    "\n",
    "An OrderedDict is also a sub-class of dictionary but **unlike dictionary, it remembers the order in which the keys were inserted. **"
   ]
  },
  {
   "cell_type": "code",
   "execution_count": 9,
   "id": "25c8e973-a18e-49fe-9ffc-64ac6391399e",
   "metadata": {},
   "outputs": [],
   "source": [
    "from collections import OrderedDict"
   ]
  },
  {
   "cell_type": "code",
   "execution_count": 21,
   "id": "ef7abdab-94ce-4de0-b392-96422977110d",
   "metadata": {},
   "outputs": [],
   "source": [
    "def print_dict(dictionary, content='Printing dictionary...'):\n",
    "    print(content,'*'*len(content),sep='\\n')\n",
    "    for key,value in dictionary.items():\n",
    "        print('key : ', key, ' value : ', value)"
   ]
  },
  {
   "cell_type": "code",
   "execution_count": 25,
   "id": "d58f4099-f153-4be2-98aa-2bd0a3650f9a",
   "metadata": {},
   "outputs": [
    {
     "name": "stdout",
     "output_type": "stream",
     "text": [
      "Printing dictionary...\n",
      "**********************\n",
      "key :  b  value :  2\n",
      "key :  a  value :  4\n",
      "key :  c  value :  3\n",
      "Ordered dict\n",
      "************\n",
      "key :  b  value :  2\n",
      "key :  a  value :  4\n",
      "key :  c  value :  3\n"
     ]
    }
   ],
   "source": [
    "d={}\n",
    "d['b']=2\n",
    "d['a']=1\n",
    "d['c']=3\n",
    "d['a']=4\n",
    "print_dict(d)\n",
    "\n",
    "d_ordered = OrderedDict()\n",
    "d_ordered['b']=2\n",
    "d_ordered['a']=1\n",
    "d_ordered['c']=3\n",
    "d_ordered['a']=4\n",
    "print_dict(d_ordered, 'Ordered dict')"
   ]
  },
  {
   "cell_type": "markdown",
   "id": "2a8429a9-5733-4999-8fad-d0db2c1af34c",
   "metadata": {},
   "source": [
    "## Deleting & inserting new item\n",
    "\n",
    "While deleting and re-inserting the same key will push the key to the last to maintain the order of insertion of the key."
   ]
  },
  {
   "cell_type": "code",
   "execution_count": 23,
   "id": "4c0b7a6e-f9be-4fac-a935-a0d978c0af59",
   "metadata": {},
   "outputs": [
    {
     "name": "stdout",
     "output_type": "stream",
     "text": [
      "After Deleting\n",
      "**************\n",
      "key :  b  value :  2\n",
      "key :  c  value :  3\n",
      "After inserting\n",
      "***************\n",
      "key :  b  value :  2\n",
      "key :  c  value :  3\n",
      "key :  a  value :  5\n"
     ]
    }
   ],
   "source": [
    "d_ordered.pop('a')\n",
    "print_dict(d_ordered,'After Deleting')\n",
    "\n",
    "d_ordered['a']=5\n",
    "print_dict(d_ordered,'After inserting')"
   ]
  },
  {
   "cell_type": "markdown",
   "id": "f3fdac59-cf89-42ea-b2c8-f8b317a30740",
   "metadata": {},
   "source": [
    "## Dict - Value is of different type"
   ]
  },
  {
   "cell_type": "code",
   "execution_count": 27,
   "id": "4aec1d0d-e0ac-49a3-8ea2-44ea8218b7e0",
   "metadata": {},
   "outputs": [
    {
     "name": "stdout",
     "output_type": "stream",
     "text": [
      "key :  brand  value :  Ford\n",
      "type(value) :  <class 'str'>\n",
      "key :  electric  value :  False\n",
      "type(value) :  <class 'bool'>\n",
      "key :  year  value :  1964\n",
      "type(value) :  <class 'int'>\n",
      "key :  colors  value :  ['red', 'white', 'blue']\n",
      "type(value) :  <class 'list'>\n"
     ]
    }
   ],
   "source": [
    "thisdict = {\n",
    "  \"brand\": \"Ford\",\n",
    "  \"electric\": False,\n",
    "  \"year\": 1964,\n",
    "  \"colors\": [\"red\", \"white\", \"blue\"]\n",
    "}\n",
    "\n",
    "for key,value in thisdict.items():\n",
    "    print('key : ', key, ' value : ', value)\n",
    "    print('type(value) : ', type(value))"
   ]
  },
  {
   "cell_type": "code",
   "execution_count": 28,
   "id": "2cfc1483-fb6a-4766-83e2-6dbbc4d04ccf",
   "metadata": {},
   "outputs": [
    {
     "name": "stdout",
     "output_type": "stream",
     "text": [
      "{'name': 'John', 'age': 36, 'country': 'Norway'}\n"
     ]
    }
   ],
   "source": [
    "thisdict = dict(name = \"John\", age = 36, country = \"Norway\")\n",
    "print(thisdict)"
   ]
  },
  {
   "cell_type": "markdown",
   "id": "3576b9cb-19e4-4470-8fa7-5d3d3cb3d3c3",
   "metadata": {},
   "source": [
    "# UserDict\n",
    "\n",
    "- UserDict is a **dictionary-like container that acts as a wrapper around the dictionary objects**.\n",
    "- This container is used when someone wants to create their **own dictionary with some modified or new functionality.**"
   ]
  },
  {
   "cell_type": "code",
   "execution_count": 35,
   "id": "59c46062-e26a-4be7-a642-86b9a5293fea",
   "metadata": {},
   "outputs": [
    {
     "data": {
      "text/plain": [
       "['__class__',\n",
       " '__class_getitem__',\n",
       " '__contains__',\n",
       " '__delattr__',\n",
       " '__delitem__',\n",
       " '__dir__',\n",
       " '__doc__',\n",
       " '__eq__',\n",
       " '__format__',\n",
       " '__ge__',\n",
       " '__getattribute__',\n",
       " '__getitem__',\n",
       " '__gt__',\n",
       " '__hash__',\n",
       " '__init__',\n",
       " '__init_subclass__',\n",
       " '__ior__',\n",
       " '__iter__',\n",
       " '__le__',\n",
       " '__len__',\n",
       " '__lt__',\n",
       " '__ne__',\n",
       " '__new__',\n",
       " '__or__',\n",
       " '__reduce__',\n",
       " '__reduce_ex__',\n",
       " '__repr__',\n",
       " '__reversed__',\n",
       " '__ror__',\n",
       " '__setattr__',\n",
       " '__setitem__',\n",
       " '__sizeof__',\n",
       " '__str__',\n",
       " '__subclasshook__',\n",
       " 'clear',\n",
       " 'copy',\n",
       " 'fromkeys',\n",
       " 'get',\n",
       " 'items',\n",
       " 'keys',\n",
       " 'pop',\n",
       " 'popitem',\n",
       " 'setdefault',\n",
       " 'update',\n",
       " 'values']"
      ]
     },
     "execution_count": 35,
     "metadata": {},
     "output_type": "execute_result"
    }
   ],
   "source": [
    "dir(dict)"
   ]
  },
  {
   "cell_type": "code",
   "execution_count": 38,
   "id": "206aa6f0-ba19-4ee6-b3fa-955ff6ace62b",
   "metadata": {},
   "outputs": [
    {
     "data": {
      "text/plain": [
       "\u001b[1;31mSignature:\u001b[0m \u001b[0mdict\u001b[0m\u001b[1;33m.\u001b[0m\u001b[0mpopitem\u001b[0m\u001b[1;33m(\u001b[0m\u001b[0mself\u001b[0m\u001b[1;33m,\u001b[0m \u001b[1;33m/\u001b[0m\u001b[1;33m)\u001b[0m\u001b[1;33m\u001b[0m\u001b[1;33m\u001b[0m\u001b[0m\n",
       "\u001b[1;31mDocstring:\u001b[0m\n",
       "Remove and return a (key, value) pair as a 2-tuple.\n",
       "\n",
       "Pairs are returned in LIFO (last-in, first-out) order.\n",
       "Raises KeyError if the dict is empty.\n",
       "\u001b[1;31mType:\u001b[0m      method_descriptor\n"
      ]
     },
     "metadata": {},
     "output_type": "display_data"
    }
   ],
   "source": [
    "dict.popitem?"
   ]
  },
  {
   "cell_type": "code",
   "execution_count": 40,
   "id": "2bce93dc-9265-4876-957a-b98bfd2f8ba0",
   "metadata": {},
   "outputs": [
    {
     "name": "stdout",
     "output_type": "stream",
     "text": [
      "{'a': 1, 'b': 2, 'c': 3}\n"
     ]
    },
    {
     "ename": "RuntimeError",
     "evalue": "Pop not allowed",
     "output_type": "error",
     "traceback": [
      "\u001b[1;31m---------------------------------------------------------------------------\u001b[0m",
      "\u001b[1;31mRuntimeError\u001b[0m                              Traceback (most recent call last)",
      "\u001b[1;32m~\\AppData\\Local\\Temp\\ipykernel_13620\\3999417149.py\u001b[0m in \u001b[0;36m<module>\u001b[1;34m\u001b[0m\n\u001b[0;32m     16\u001b[0m \u001b[0mprint\u001b[0m\u001b[1;33m(\u001b[0m\u001b[0md\u001b[0m\u001b[1;33m)\u001b[0m\u001b[1;33m\u001b[0m\u001b[1;33m\u001b[0m\u001b[0m\n\u001b[0;32m     17\u001b[0m \u001b[1;33m\u001b[0m\u001b[0m\n\u001b[1;32m---> 18\u001b[1;33m \u001b[0md\u001b[0m\u001b[1;33m.\u001b[0m\u001b[0mpop\u001b[0m\u001b[1;33m(\u001b[0m\u001b[1;33m)\u001b[0m\u001b[1;33m\u001b[0m\u001b[1;33m\u001b[0m\u001b[0m\n\u001b[0m",
      "\u001b[1;32m~\\AppData\\Local\\Temp\\ipykernel_13620\\3999417149.py\u001b[0m in \u001b[0;36mpop\u001b[1;34m(self)\u001b[0m\n\u001b[0;32m      8\u001b[0m \u001b[1;33m\u001b[0m\u001b[0m\n\u001b[0;32m      9\u001b[0m     \u001b[1;32mdef\u001b[0m \u001b[0mpop\u001b[0m\u001b[1;33m(\u001b[0m\u001b[0mself\u001b[0m\u001b[1;33m)\u001b[0m\u001b[1;33m:\u001b[0m\u001b[1;33m\u001b[0m\u001b[1;33m\u001b[0m\u001b[0m\n\u001b[1;32m---> 10\u001b[1;33m         \u001b[1;32mraise\u001b[0m \u001b[0mRuntimeError\u001b[0m\u001b[1;33m(\u001b[0m\u001b[1;34m'Pop not allowed'\u001b[0m\u001b[1;33m)\u001b[0m\u001b[1;33m\u001b[0m\u001b[1;33m\u001b[0m\u001b[0m\n\u001b[0m\u001b[0;32m     11\u001b[0m \u001b[1;33m\u001b[0m\u001b[0m\n\u001b[0;32m     12\u001b[0m     \u001b[1;32mdef\u001b[0m \u001b[0mpopitem\u001b[0m\u001b[1;33m(\u001b[0m\u001b[0mself\u001b[0m\u001b[1;33m,\u001b[0m \u001b[0ms\u001b[0m\u001b[1;33m=\u001b[0m\u001b[1;32mNone\u001b[0m\u001b[1;33m)\u001b[0m\u001b[1;33m:\u001b[0m\u001b[1;33m\u001b[0m\u001b[1;33m\u001b[0m\u001b[0m\n",
      "\u001b[1;31mRuntimeError\u001b[0m: Pop not allowed"
     ]
    }
   ],
   "source": [
    "from collections import UserDict\n",
    "\n",
    "class MyDict(UserDict):\n",
    "    # Function to stop deletion \n",
    "    # from dictionary \n",
    "    def __del__(self):\n",
    "        raise RuntimeError('Deletion not allowed')\n",
    "    \n",
    "    def pop(self):\n",
    "        raise RuntimeError('Pop not allowed')\n",
    "        \n",
    "    def popitem(self, s=None):\n",
    "        raise RuntimeError('Deletion not allowed')\n",
    "        \n",
    "d = MyDict({'a':1, 'b':2, 'c': 3})\n",
    "print(d)\n",
    "\n",
    "d.pop()"
   ]
  },
  {
   "cell_type": "code",
   "execution_count": null,
   "id": "99e26109-7afb-40d2-b050-5c351409aa23",
   "metadata": {},
   "outputs": [],
   "source": []
  }
 ],
 "metadata": {
  "kernelspec": {
   "display_name": "Python 3 (ipykernel)",
   "language": "python",
   "name": "python3"
  },
  "language_info": {
   "codemirror_mode": {
    "name": "ipython",
    "version": 3
   },
   "file_extension": ".py",
   "mimetype": "text/x-python",
   "name": "python",
   "nbconvert_exporter": "python",
   "pygments_lexer": "ipython3",
   "version": "3.9.13"
  }
 },
 "nbformat": 4,
 "nbformat_minor": 5
}
