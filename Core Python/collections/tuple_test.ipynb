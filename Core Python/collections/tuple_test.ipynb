{
 "cells": [
  {
   "cell_type": "markdown",
   "id": "45510bd1-bee6-4e57-9f94-2de2b90d35f7",
   "metadata": {},
   "source": [
    "# Tuple\n",
    "\n",
    "Tuple is one of 4 built-in data types in Python used to store collections of data, the other 3 are List, Set, and Dictionary, all with different qualities and usage.\n",
    "\n",
    "- Tuple items are ordered(insertion order), unchangeable, and allow duplicate values.\n",
    "- Tuple items are indexed, the first item has index [0], the second item has index [1] etc.\n"
   ]
  },
  {
   "cell_type": "code",
   "execution_count": 3,
   "id": "fd31c3e4-57d7-4abe-8c2e-0cf7d1f5f12d",
   "metadata": {},
   "outputs": [
    {
     "name": "stdout",
     "output_type": "stream",
     "text": [
      "('apple', 'banana', 'cherry', 'apple', 'cherry')\n",
      "5\n",
      "apple\n"
     ]
    }
   ],
   "source": [
    "t = (\"apple\", \"banana\", \"cherry\", \"apple\", \"cherry\")\n",
    "print(t)\n",
    "print(len(t))\n",
    "print(t[0])"
   ]
  },
  {
   "cell_type": "code",
   "execution_count": 5,
   "id": "a1dfdd5d-0a05-4f57-a409-df386e61bd7f",
   "metadata": {},
   "outputs": [
    {
     "name": "stdout",
     "output_type": "stream",
     "text": [
      "apple\n",
      "banana\n",
      "cherry\n",
      "apple\n",
      "cherry\n"
     ]
    }
   ],
   "source": [
    "for i in t:\n",
    "    print(i)"
   ]
  },
  {
   "cell_type": "markdown",
   "id": "15921b56-189b-471d-98b6-604c09482b4f",
   "metadata": {},
   "source": [
    "## Tuple Items - Data Types\n",
    "Tuple items can be of any data type:"
   ]
  },
  {
   "cell_type": "code",
   "execution_count": 14,
   "id": "be10c192-a850-4677-9db7-c928353595fc",
   "metadata": {},
   "outputs": [
    {
     "name": "stdout",
     "output_type": "stream",
     "text": [
      "('apple', 'banana', 'cherry')\n",
      "(1, 5, 7, 9, 3, 'a')\n",
      "(True, False, False)\n"
     ]
    }
   ],
   "source": [
    "tuple1 = (\"apple\", \"banana\", \"cherry\")\n",
    "tuple2 = (1, 5, 7, 9, 3, \"a\")\n",
    "tuple3 = (True, False, False)\n",
    "print(tuple1)\n",
    "print(tuple2)\n",
    "print(tuple3)"
   ]
  },
  {
   "cell_type": "markdown",
   "id": "13e432c6-6aae-4a13-a1fe-0c55296673a6",
   "metadata": {},
   "source": [
    "## The tuple() Constructor"
   ]
  },
  {
   "cell_type": "code",
   "execution_count": 15,
   "id": "bed54330-48d6-44f6-858d-a481d9a73123",
   "metadata": {},
   "outputs": [
    {
     "name": "stdout",
     "output_type": "stream",
     "text": [
      "('apple', 'banana', 'cherry')\n"
     ]
    }
   ],
   "source": [
    "t = tuple((\"apple\", \"banana\", \"cherry\"))\n",
    "print(t)"
   ]
  },
  {
   "cell_type": "markdown",
   "id": "31e6c1a4-7f83-4bbf-a17c-6ee535c6e20d",
   "metadata": {
    "tags": []
   },
   "source": [
    "# Named Tuple\n",
    "\n",
    "It returns a **tuple with a named entry, which means there will be a name assigned to each value in the tuple**. It overcomes the problem of accessing the elements using the **index values**. With namedtuple( ) it becomes easier to access these values, since you do not have to remember the index values to get specific elements."
   ]
  },
  {
   "cell_type": "code",
   "execution_count": 20,
   "id": "96527641-5d70-4ec2-aba5-ba672a43a144",
   "metadata": {},
   "outputs": [
    {
     "name": "stdout",
     "output_type": "stream",
     "text": [
      "Student(name='A', age=35, DOB='10/12/1990')\n",
      "The Student age using index is :  35\n",
      "The Student age using keyname is :  A\n"
     ]
    }
   ],
   "source": [
    "from collections import namedtuple\n",
    "\n",
    "Stud = namedtuple('Student', ['name', 'age', 'DOB'])\n",
    "\n",
    "s = Stud('A', 35, '10/12/1990')\n",
    "print(s)\n",
    "\n",
    "print('The Student age using index is : ', s[1])\n",
    "print('The Student age using keyname is : ', s.name)"
   ]
  },
  {
   "cell_type": "code",
   "execution_count": 26,
   "id": "7f3b32b1-762e-4288-8947-6eb24083ea0b",
   "metadata": {},
   "outputs": [
    {
     "data": {
      "text/plain": [
       "\u001b[1;31mSignature:\u001b[0m\n",
       "\u001b[0mnamedtuple\u001b[0m\u001b[1;33m(\u001b[0m\u001b[1;33m\n",
       "\u001b[0m    \u001b[0mtypename\u001b[0m\u001b[1;33m,\u001b[0m\u001b[1;33m\n",
       "\u001b[0m    \u001b[0mfield_names\u001b[0m\u001b[1;33m,\u001b[0m\u001b[1;33m\n",
       "\u001b[0m    \u001b[1;33m*\u001b[0m\u001b[1;33m,\u001b[0m\u001b[1;33m\n",
       "\u001b[0m    \u001b[0mrename\u001b[0m\u001b[1;33m=\u001b[0m\u001b[1;32mFalse\u001b[0m\u001b[1;33m,\u001b[0m\u001b[1;33m\n",
       "\u001b[0m    \u001b[0mdefaults\u001b[0m\u001b[1;33m=\u001b[0m\u001b[1;32mNone\u001b[0m\u001b[1;33m,\u001b[0m\u001b[1;33m\n",
       "\u001b[0m    \u001b[0mmodule\u001b[0m\u001b[1;33m=\u001b[0m\u001b[1;32mNone\u001b[0m\u001b[1;33m,\u001b[0m\u001b[1;33m\n",
       "\u001b[0m\u001b[1;33m)\u001b[0m\u001b[1;33m\u001b[0m\u001b[1;33m\u001b[0m\u001b[0m\n",
       "\u001b[1;31mDocstring:\u001b[0m\n",
       "Returns a new subclass of tuple with named fields.\n",
       "\n",
       ">>> Point = namedtuple('Point', ['x', 'y'])\n",
       ">>> Point.__doc__                   # docstring for the new class\n",
       "'Point(x, y)'\n",
       ">>> p = Point(11, y=22)             # instantiate with positional args or keywords\n",
       ">>> p[0] + p[1]                     # indexable like a plain tuple\n",
       "33\n",
       ">>> x, y = p                        # unpack like a regular tuple\n",
       ">>> x, y\n",
       "(11, 22)\n",
       ">>> p.x + p.y                       # fields also accessible by name\n",
       "33\n",
       ">>> d = p._asdict()                 # convert to a dictionary\n",
       ">>> d['x']\n",
       "11\n",
       ">>> Point(**d)                      # convert from a dictionary\n",
       "Point(x=11, y=22)\n",
       ">>> p._replace(x=100)               # _replace() is like str.replace() but targets named fields\n",
       "Point(x=100, y=22)\n",
       "\u001b[1;31mFile:\u001b[0m      c:\\users\\vinot\\anaconda3\\lib\\collections\\__init__.py\n",
       "\u001b[1;31mType:\u001b[0m      function\n"
      ]
     },
     "metadata": {},
     "output_type": "display_data"
    }
   ],
   "source": [
    "namedtuple?"
   ]
  },
  {
   "cell_type": "code",
   "execution_count": 36,
   "id": "bb042f7d-16ec-467b-a79e-a284ef75cbb3",
   "metadata": {},
   "outputs": [
    {
     "name": "stdout",
     "output_type": "stream",
     "text": [
      "The namedtuple instance using iterable is  : \n",
      "Student(name='Manjeet', age='19', DOB='411997')\n",
      "The OrderedDict instance using namedtuple is  : \n",
      "{'name': 'A', 'age': 35, 'DOB': '10/12/1990'}\n"
     ]
    }
   ],
   "source": [
    "# initializing iterable  \n",
    "li = ['Manjeet', '19', '411997' ] \n",
    "    \n",
    "# initializing dict \n",
    "di = { 'name' : \"Nikhil\", 'age' : 19 , 'DOB' : '1391997' } \n",
    "    \n",
    "# using _make() to return namedtuple() \n",
    "print (\"The namedtuple instance using iterable is  : \") \n",
    "print (Stud._make(li))\n",
    "\n",
    "# using _asdict() to return an OrderedDict() \n",
    "print (\"The OrderedDict instance using namedtuple is  : \") \n",
    "print (s._asdict())"
   ]
  },
  {
   "cell_type": "code",
   "execution_count": null,
   "id": "7d9adcb3-d08e-4782-82ee-5bf5fcb0e74d",
   "metadata": {},
   "outputs": [],
   "source": []
  }
 ],
 "metadata": {
  "kernelspec": {
   "display_name": "Python 3 (ipykernel)",
   "language": "python",
   "name": "python3"
  },
  "language_info": {
   "codemirror_mode": {
    "name": "ipython",
    "version": 3
   },
   "file_extension": ".py",
   "mimetype": "text/x-python",
   "name": "python",
   "nbconvert_exporter": "python",
   "pygments_lexer": "ipython3",
   "version": "3.9.13"
  }
 },
 "nbformat": 4,
 "nbformat_minor": 5
}
