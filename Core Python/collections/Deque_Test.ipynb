{
 "cells": [
  {
   "cell_type": "markdown",
   "id": "f0537ddc-c57e-4dad-988e-2e168c83fecd",
   "metadata": {},
   "source": [
    "# Deque\n",
    "\n",
    "- Deque (Doubly Ended Queue) is the optimized list for quicker append and pop operations from both sides of the container.\n",
    "- It provides O(1) time complexity for append and pop operations as compared to list with O(n) time complexity."
   ]
  },
  {
   "cell_type": "code",
   "execution_count": 1,
   "id": "6649c3fb-0945-4f28-a028-6d0dae02d6a8",
   "metadata": {},
   "outputs": [],
   "source": [
    "from collections import deque"
   ]
  },
  {
   "cell_type": "code",
   "execution_count": 2,
   "id": "36f91a17-a243-4d23-ae93-8040c849062e",
   "metadata": {},
   "outputs": [
    {
     "name": "stdout",
     "output_type": "stream",
     "text": [
      "deque(['name', 'age', 'DOB'])\n"
     ]
    }
   ],
   "source": [
    "# Declaring deque\n",
    "queue = deque(['name','age','DOB']) \n",
    "    \n",
    "print(queue)"
   ]
  },
  {
   "cell_type": "markdown",
   "id": "98106079-aa49-4a9c-8a02-c5e0b278881e",
   "metadata": {},
   "source": [
    "## Inserting Elements"
   ]
  },
  {
   "cell_type": "code",
   "execution_count": 8,
   "id": "3b081628-8f9a-4dc0-978a-9c8f0c621aab",
   "metadata": {},
   "outputs": [
    {
     "name": "stdout",
     "output_type": "stream",
     "text": [
      "deque([1, 2, 3])\n",
      "deque([1, 2, 3, '4'])\n",
      "deque([0, 1, 2, 3, '4'])\n"
     ]
    }
   ],
   "source": [
    "# initializing deque \n",
    "de = deque([1,2,3]) \n",
    "print(de)\n",
    "\n",
    "de.append('4')\n",
    "print(de)\n",
    "\n",
    "de.appendleft(0)\n",
    "print(de)"
   ]
  },
  {
   "cell_type": "markdown",
   "id": "c1962899-6565-4b3e-879c-4a55e844f71a",
   "metadata": {},
   "source": [
    "## Removing Elements"
   ]
  },
  {
   "cell_type": "code",
   "execution_count": 9,
   "id": "a428c4c7-5d4f-43d7-aeb3-5129a425fe4b",
   "metadata": {},
   "outputs": [
    {
     "name": "stdout",
     "output_type": "stream",
     "text": [
      "deque([0, 1, 2, 3])\n",
      "deque([1, 2, 3])\n"
     ]
    }
   ],
   "source": [
    "de.pop()\n",
    "print(de)\n",
    "\n",
    "de.popleft()\n",
    "print(de)"
   ]
  },
  {
   "cell_type": "code",
   "execution_count": null,
   "id": "775c1558-95ef-4ec4-9b78-28a31b730895",
   "metadata": {},
   "outputs": [],
   "source": []
  }
 ],
 "metadata": {
  "kernelspec": {
   "display_name": "Python 3 (ipykernel)",
   "language": "python",
   "name": "python3"
  },
  "language_info": {
   "codemirror_mode": {
    "name": "ipython",
    "version": 3
   },
   "file_extension": ".py",
   "mimetype": "text/x-python",
   "name": "python",
   "nbconvert_exporter": "python",
   "pygments_lexer": "ipython3",
   "version": "3.9.13"
  }
 },
 "nbformat": 4,
 "nbformat_minor": 5
}
