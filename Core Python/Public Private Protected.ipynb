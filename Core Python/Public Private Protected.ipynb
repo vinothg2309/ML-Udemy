{
 "cells": [
  {
   "cell_type": "code",
   "execution_count": 1,
   "metadata": {},
   "outputs": [],
   "source": [
    "# All class variables are public\n",
    "class Car:\n",
    "    def __init__(self,windows,door,enginetype): # Constructor - self ---> instance of class\n",
    "        self.windows = windows\n",
    "        self.door = door\n",
    "        self.enginetype = enginetype   "
   ]
  },
  {
   "cell_type": "code",
   "execution_count": 2,
   "metadata": {},
   "outputs": [],
   "source": [
    "audi = Car(4,5,'Gas')"
   ]
  },
  {
   "cell_type": "code",
   "execution_count": 3,
   "metadata": {},
   "outputs": [
    {
     "data": {
      "text/plain": [
       "<__main__.Car at 0x7fad4af4a640>"
      ]
     },
     "execution_count": 3,
     "metadata": {},
     "output_type": "execute_result"
    }
   ],
   "source": [
    "audi"
   ]
  },
  {
   "cell_type": "code",
   "execution_count": 9,
   "metadata": {},
   "outputs": [],
   "source": [
    "audi.windows=6"
   ]
  },
  {
   "cell_type": "code",
   "execution_count": 11,
   "metadata": {},
   "outputs": [
    {
     "data": {
      "text/plain": [
       "6"
      ]
     },
     "execution_count": 11,
     "metadata": {},
     "output_type": "execute_result"
    }
   ],
   "source": [
    "audi.windows"
   ]
  },
  {
   "cell_type": "markdown",
   "metadata": {},
   "source": [
    "The <b>dir()</b> function returns all properties and methods of the specified object, without the values.\n",
    "\n",
    "This function will return all the properties and methods, even built-in properties which are default for all object."
   ]
  },
  {
   "cell_type": "code",
   "execution_count": 4,
   "metadata": {},
   "outputs": [
    {
     "data": {
      "text/plain": [
       "['__class__',\n",
       " '__delattr__',\n",
       " '__dict__',\n",
       " '__dir__',\n",
       " '__doc__',\n",
       " '__eq__',\n",
       " '__format__',\n",
       " '__ge__',\n",
       " '__getattribute__',\n",
       " '__gt__',\n",
       " '__hash__',\n",
       " '__init__',\n",
       " '__init_subclass__',\n",
       " '__le__',\n",
       " '__lt__',\n",
       " '__module__',\n",
       " '__ne__',\n",
       " '__new__',\n",
       " '__reduce__',\n",
       " '__reduce_ex__',\n",
       " '__repr__',\n",
       " '__setattr__',\n",
       " '__sizeof__',\n",
       " '__str__',\n",
       " '__subclasshook__',\n",
       " '__weakref__',\n",
       " 'door',\n",
       " 'enginetype',\n",
       " 'windows']"
      ]
     },
     "execution_count": 4,
     "metadata": {},
     "output_type": "execute_result"
    }
   ],
   "source": [
    "dir(audi)"
   ]
  },
  {
   "cell_type": "markdown",
   "metadata": {},
   "source": [
    "### Protected  -  All class variables below are protected. _(underscore) make it as protected.Protected method will be accessed only from derived (or) inherited class"
   ]
  },
  {
   "cell_type": "code",
   "execution_count": 14,
   "metadata": {},
   "outputs": [],
   "source": [
    "class Car:\n",
    "    def __init__(self,windows,door,enginetype): # Constructor - self ---> instance of class\n",
    "        self._windows = windows\n",
    "        self._door = door\n",
    "        self._enginetype = enginetype   "
   ]
  },
  {
   "cell_type": "code",
   "execution_count": 15,
   "metadata": {},
   "outputs": [],
   "source": [
    "audi=Car(3,4,'Diesel')"
   ]
  },
  {
   "cell_type": "code",
   "execution_count": 16,
   "metadata": {},
   "outputs": [
    {
     "data": {
      "text/plain": [
       "['__class__',\n",
       " '__delattr__',\n",
       " '__dict__',\n",
       " '__dir__',\n",
       " '__doc__',\n",
       " '__eq__',\n",
       " '__format__',\n",
       " '__ge__',\n",
       " '__getattribute__',\n",
       " '__gt__',\n",
       " '__hash__',\n",
       " '__init__',\n",
       " '__init_subclass__',\n",
       " '__le__',\n",
       " '__lt__',\n",
       " '__module__',\n",
       " '__ne__',\n",
       " '__new__',\n",
       " '__reduce__',\n",
       " '__reduce_ex__',\n",
       " '__repr__',\n",
       " '__setattr__',\n",
       " '__sizeof__',\n",
       " '__str__',\n",
       " '__subclasshook__',\n",
       " '__weakref__',\n",
       " '_door',\n",
       " '_enginetype',\n",
       " '_windows']"
      ]
     },
     "execution_count": 16,
     "metadata": {},
     "output_type": "execute_result"
    }
   ],
   "source": [
    "dir(audi)"
   ]
  },
  {
   "cell_type": "code",
   "execution_count": 17,
   "metadata": {},
   "outputs": [],
   "source": [
    "class Truck(Car): # inheriting Car class\n",
    "    def __init__(self,windows,door,enginetype,horsepower):\n",
    "        super().__init__(windows,door,enginetype)\n",
    "        self.horsepower = horsepower"
   ]
  },
  {
   "cell_type": "code",
   "execution_count": 18,
   "metadata": {},
   "outputs": [],
   "source": [
    "truck = Truck(5,4,'Diesel',40000)"
   ]
  },
  {
   "cell_type": "code",
   "execution_count": 20,
   "metadata": {},
   "outputs": [],
   "source": [
    "truck._doors=10"
   ]
  },
  {
   "cell_type": "code",
   "execution_count": 21,
   "metadata": {},
   "outputs": [
    {
     "data": {
      "text/plain": [
       "10"
      ]
     },
     "execution_count": 21,
     "metadata": {},
     "output_type": "execute_result"
    }
   ],
   "source": [
    "truck._doors"
   ]
  },
  {
   "cell_type": "code",
   "execution_count": 23,
   "metadata": {},
   "outputs": [
    {
     "data": {
      "text/plain": [
       "1"
      ]
     },
     "execution_count": 23,
     "metadata": {},
     "output_type": "execute_result"
    }
   ],
   "source": [
    "car2=Car(1,2,'Petrol')\n",
    "car2._windows"
   ]
  },
  {
   "cell_type": "code",
   "execution_count": 24,
   "metadata": {},
   "outputs": [
    {
     "name": "stdout",
     "output_type": "stream",
     "text": [
      "Name:  R2J\n",
      "Roll:  1706256\n",
      "Branch:  Information Technology\n"
     ]
    }
   ],
   "source": [
    "# program to illustrate protected access modifier in a class\n",
    "\n",
    "# super class\n",
    "class Student:\n",
    "\t\n",
    "\t# protected data members\n",
    "\t_name = None\n",
    "\t_roll = None\n",
    "\t_branch = None\n",
    "\t\n",
    "\t# constructor\n",
    "\tdef __init__(self, name, roll, branch):\n",
    "\t\tself._name = name\n",
    "\t\tself._roll = roll\n",
    "\t\tself._branch = branch\n",
    "\t\n",
    "\t# protected member function\n",
    "\tdef _displayRollAndBranch(self):\n",
    "\n",
    "\t\t# accessing protected data members\n",
    "\t\tprint(\"Roll: \", self._roll)\n",
    "\t\tprint(\"Branch: \", self._branch)\n",
    "\n",
    "\n",
    "# derived class\n",
    "class Geek(Student):\n",
    "\n",
    "\t# constructor\n",
    "\tdef __init__(self, name, roll, branch):\n",
    "\t\t\t\tStudent.__init__(self, name, roll, branch)\n",
    "\t\t\n",
    "\t# public member function\n",
    "\tdef displayDetails(self):\n",
    "\t\t\t\t\t\n",
    "\t\t\t\t# accessing protected data members of super class\n",
    "\t\t\t\tprint(\"Name: \", self._name)\n",
    "\t\t\t\t\t\n",
    "\t\t\t\t# accessing protected member functions of super class\n",
    "\t\t\t\tself._displayRollAndBranch()\n",
    "\n",
    "# creating objects of the derived class\t\t\n",
    "obj = Geek(\"R2J\", 1706256, \"Information Technology\")\n",
    "\n",
    "# calling public member functions of the class\n",
    "obj.displayDetails()\n"
   ]
  },
  {
   "cell_type": "code",
   "execution_count": 26,
   "metadata": {},
   "outputs": [
    {
     "name": "stdout",
     "output_type": "stream",
     "text": [
      "Roll:  10\n",
      "Branch:  CSE\n"
     ]
    },
    {
     "data": {
      "text/plain": [
       "'Vinoth'"
      ]
     },
     "execution_count": 26,
     "metadata": {},
     "output_type": "execute_result"
    }
   ],
   "source": [
    "stud = Student('Vinoth',10,'CSE')\n",
    "stud._displayRollAndBranch()\n",
    "stud._name"
   ]
  },
  {
   "cell_type": "markdown",
   "metadata": {},
   "source": [
    "### Private Access Specifier\n",
    "\n",
    "It is represented as <b>double-underscore (__)</b>"
   ]
  },
  {
   "cell_type": "code",
   "execution_count": 27,
   "metadata": {},
   "outputs": [],
   "source": [
    "class Car:\n",
    "    def __init__(self,windows,door,enginetype): # Constructor - self ---> instance of class\n",
    "        self.__windows = windows\n",
    "        self.__door = door\n",
    "        self.__enginetype = enginetype   "
   ]
  },
  {
   "cell_type": "code",
   "execution_count": 28,
   "metadata": {},
   "outputs": [],
   "source": [
    "car3=Car(3,4,'Diesel')"
   ]
  },
  {
   "cell_type": "markdown",
   "metadata": {},
   "source": [
    "Private parameters won't b available in dir()"
   ]
  },
  {
   "cell_type": "code",
   "execution_count": 34,
   "metadata": {},
   "outputs": [
    {
     "data": {
      "text/plain": [
       "['_Car__door',\n",
       " '_Car__enginetype',\n",
       " '_Car__windows',\n",
       " '__class__',\n",
       " '__delattr__',\n",
       " '__dict__',\n",
       " '__dir__',\n",
       " '__doc__',\n",
       " '__eq__',\n",
       " '__format__',\n",
       " '__ge__',\n",
       " '__getattribute__',\n",
       " '__gt__',\n",
       " '__hash__',\n",
       " '__init__',\n",
       " '__init_subclass__',\n",
       " '__le__',\n",
       " '__lt__',\n",
       " '__module__',\n",
       " '__ne__',\n",
       " '__new__',\n",
       " '__reduce__',\n",
       " '__reduce_ex__',\n",
       " '__repr__',\n",
       " '__setattr__',\n",
       " '__sizeof__',\n",
       " '__str__',\n",
       " '__subclasshook__',\n",
       " '__weakref__']"
      ]
     },
     "execution_count": 34,
     "metadata": {},
     "output_type": "execute_result"
    }
   ],
   "source": [
    "dir(car3)\n",
    "# '_Car__door', '_Car__enginetype', '_Car__windows --> indicates that it can't be accessed/modified outside of class"
   ]
  },
  {
   "cell_type": "code",
   "execution_count": 33,
   "metadata": {},
   "outputs": [
    {
     "name": "stdout",
     "output_type": "stream",
     "text": [
      "Name:  R2J\n",
      "Roll:  1706256\n",
      "Branch:  Information Technology\n"
     ]
    },
    {
     "ename": "AttributeError",
     "evalue": "'Geek' object has no attribute '__displayDetails'",
     "output_type": "error",
     "traceback": [
      "\u001b[0;31m---------------------------------------------------------------------------\u001b[0m",
      "\u001b[0;31mAttributeError\u001b[0m                            Traceback (most recent call last)",
      "\u001b[0;32m<ipython-input-33-b56acdd63a0a>\u001b[0m in \u001b[0;36m<module>\u001b[0;34m\u001b[0m\n\u001b[1;32m     34\u001b[0m \u001b[0mobj\u001b[0m\u001b[0;34m.\u001b[0m\u001b[0maccessPrivateFunction\u001b[0m\u001b[0;34m(\u001b[0m\u001b[0;34m)\u001b[0m\u001b[0;34m\u001b[0m\u001b[0;34m\u001b[0m\u001b[0m\n\u001b[1;32m     35\u001b[0m \u001b[0;34m\u001b[0m\u001b[0m\n\u001b[0;32m---> 36\u001b[0;31m \u001b[0mobj\u001b[0m\u001b[0;34m.\u001b[0m\u001b[0m__displayDetails\u001b[0m\u001b[0;34m(\u001b[0m\u001b[0;34m)\u001b[0m\u001b[0;34m\u001b[0m\u001b[0;34m\u001b[0m\u001b[0m\n\u001b[0m",
      "\u001b[0;31mAttributeError\u001b[0m: 'Geek' object has no attribute '__displayDetails'"
     ]
    }
   ],
   "source": [
    "# program to illustrate private access modifier in a class\n",
    "\n",
    "class Geek:\n",
    "\t\n",
    "\t# private members\n",
    "\t__name = None\n",
    "\t__roll = None\n",
    "\t__branch = None\n",
    "\n",
    "\t# constructor\n",
    "\tdef __init__(self, name, roll, branch):\n",
    "\t\tself.__name = name\n",
    "\t\tself.__roll = roll\n",
    "\t\tself.__branch = branch\n",
    "\n",
    "\t# private member function\n",
    "\tdef __displayDetails(self):\n",
    "\t\t\t\n",
    "\t\t# accessing private data members\n",
    "\t\tprint(\"Name: \", self.__name)\n",
    "\t\tprint(\"Roll: \", self.__roll)\n",
    "\t\tprint(\"Branch: \", self.__branch)\n",
    "\t\n",
    "\t# public member function\n",
    "\tdef accessPrivateFunction(self):\n",
    "\t\t\t\n",
    "\t\t# accesing private member function\n",
    "\t\tself.__displayDetails()\n",
    "\n",
    "# creating object\t\n",
    "obj = Geek(\"R2J\", 1706256, \"Information Technology\")\n",
    "\n",
    "# calling public member function of the class\n",
    "obj.accessPrivateFunction()\n",
    "\n",
    "obj.__displayDetails()\n"
   ]
  },
  {
   "cell_type": "code",
   "execution_count": 36,
   "metadata": {},
   "outputs": [
    {
     "ename": "AttributeError",
     "evalue": "'Geek' object has no attribute 'name'",
     "output_type": "error",
     "traceback": [
      "\u001b[0;31m---------------------------------------------------------------------------\u001b[0m",
      "\u001b[0;31mAttributeError\u001b[0m                            Traceback (most recent call last)",
      "\u001b[0;32m<ipython-input-36-8d60453bb8a2>\u001b[0m in \u001b[0;36m<module>\u001b[0;34m\u001b[0m\n\u001b[0;32m----> 1\u001b[0;31m \u001b[0mobj\u001b[0m\u001b[0;34m.\u001b[0m\u001b[0mname\u001b[0m\u001b[0;34m\u001b[0m\u001b[0;34m\u001b[0m\u001b[0m\n\u001b[0m",
      "\u001b[0;31mAttributeError\u001b[0m: 'Geek' object has no attribute 'name'"
     ]
    }
   ],
   "source": [
    "obj.name"
   ]
  },
  {
   "cell_type": "code",
   "execution_count": null,
   "metadata": {},
   "outputs": [],
   "source": []
  }
 ],
 "metadata": {
  "kernelspec": {
   "display_name": "Python 3",
   "language": "python",
   "name": "python3"
  },
  "language_info": {
   "codemirror_mode": {
    "name": "ipython",
    "version": 3
   },
   "file_extension": ".py",
   "mimetype": "text/x-python",
   "name": "python",
   "nbconvert_exporter": "python",
   "pygments_lexer": "ipython3",
   "version": "3.8.5"
  }
 },
 "nbformat": 4,
 "nbformat_minor": 4
}
