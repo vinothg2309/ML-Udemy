{
 "cells": [
  {
   "cell_type": "markdown",
   "id": "4a565664",
   "metadata": {},
   "source": [
    "#### The *args will give you all function parameters as a tuple:"
   ]
  },
  {
   "cell_type": "code",
   "execution_count": 1,
   "id": "c00803d2",
   "metadata": {},
   "outputs": [
    {
     "name": "stdout",
     "output_type": "stream",
     "text": [
      "1\n",
      "1\n",
      "2\n",
      "3\n"
     ]
    }
   ],
   "source": [
    "def foo(*args):\n",
    "    for a in args:\n",
    "        print(a)  \n",
    "\n",
    "foo(1)\n",
    "foo(1,2,3)"
   ]
  },
  {
   "cell_type": "markdown",
   "id": "762c08ab",
   "metadata": {},
   "source": [
    "#### The **kwargs will give you all keyword arguments except for those corresponding to a formal parameter as a dictionary."
   ]
  },
  {
   "cell_type": "code",
   "execution_count": 2,
   "id": "ae1dc1f4",
   "metadata": {},
   "outputs": [
    {
     "name": "stdout",
     "output_type": "stream",
     "text": [
      "name one\n",
      "age 27\n"
     ]
    }
   ],
   "source": [
    "def bar(**kwargs):\n",
    "    for a in kwargs:\n",
    "        print(a, kwargs[a])  \n",
    "\n",
    "bar(name='one', age=27)"
   ]
  },
  {
   "cell_type": "code",
   "execution_count": null,
   "id": "4efe5665",
   "metadata": {},
   "outputs": [],
   "source": []
  }
 ],
 "metadata": {
  "kernelspec": {
   "display_name": "Python 3",
   "language": "python",
   "name": "python3"
  },
  "language_info": {
   "codemirror_mode": {
    "name": "ipython",
    "version": 3
   },
   "file_extension": ".py",
   "mimetype": "text/x-python",
   "name": "python",
   "nbconvert_exporter": "python",
   "pygments_lexer": "ipython3",
   "version": "3.8.5"
  }
 },
 "nbformat": 4,
 "nbformat_minor": 5
}
