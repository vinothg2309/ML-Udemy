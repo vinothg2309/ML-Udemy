{
 "cells": [
  {
   "cell_type": "code",
   "execution_count": null,
   "id": "bdad684f-6062-4b44-8971-923a326da238",
   "metadata": {},
   "outputs": [],
   "source": [
    "var1=5\n",
    "def some_func():\n",
    "    var2=10\n",
    "    def inner_func():\n",
    "        var3=15"
   ]
  },
  {
   "cell_type": "markdown",
   "id": "5d89f29e-a71f-4485-8478-69b6d3fb1b6b",
   "metadata": {},
   "source": [
    "# Global scope"
   ]
  },
  {
   "cell_type": "code",
   "execution_count": 4,
   "id": "2e3cba7d-231a-4bd5-b7c9-e2529ebde2fd",
   "metadata": {},
   "outputs": [
    {
     "name": "stdout",
     "output_type": "stream",
     "text": [
      "outside method :  5\n",
      "inside method :  6\n"
     ]
    }
   ],
   "source": [
    "# Python program processing\n",
    "# global variable\n",
    " \n",
    "count = 5\n",
    "def some_method():\n",
    "    global count\n",
    "    count = count + 1\n",
    "    print('inside method : ', count)\n",
    "print('outside method : ',count)\n",
    "some_method()"
   ]
  },
  {
   "cell_type": "code",
   "execution_count": 21,
   "id": "3a6eeb1a-607b-437b-ac79-1e9e2571c6c1",
   "metadata": {},
   "outputs": [
    {
     "name": "stdout",
     "output_type": "stream",
     "text": [
      "outer method :  10\n",
      "inner_method var:  20\n",
      "inner_method_1 var:  30\n"
     ]
    }
   ],
   "source": [
    "var = 10\n",
    "def inner_method():\n",
    "    #print('var: ', var)\n",
    "    var = 20\n",
    "    print('inner_method var: ', var)\n",
    "    def inner_method_1():\n",
    "        global var\n",
    "        var=30\n",
    "        print('inner_method_1 var: ', var)\n",
    "    inner_method_1()\n",
    "print('outer method : ', var)\n",
    "\n",
    "inner_method()"
   ]
  },
  {
   "cell_type": "code",
   "execution_count": 22,
   "id": "6a8ad705-eb9b-400c-93bd-81ff00800342",
   "metadata": {},
   "outputs": [
    {
     "data": {
      "text/plain": [
       "30"
      ]
     },
     "execution_count": 22,
     "metadata": {},
     "output_type": "execute_result"
    }
   ],
   "source": [
    "var"
   ]
  },
  {
   "cell_type": "code",
   "execution_count": 16,
   "id": "e2232de5-e243-4b71-87e1-29af619daf41",
   "metadata": {},
   "outputs": [
    {
     "name": "stdout",
     "output_type": "stream",
     "text": [
      "local\n"
     ]
    }
   ],
   "source": [
    "x = 'global'\n",
    "def f():\n",
    "    x = 'enclosing'\n",
    "    def g():\n",
    "        x = 'local'\n",
    "        print(x)\n",
    "    g()\n",
    "\n",
    "f()"
   ]
  },
  {
   "cell_type": "code",
   "execution_count": null,
   "id": "70e1dd10-5563-4be3-b213-80ae0f866487",
   "metadata": {},
   "outputs": [],
   "source": []
  }
 ],
 "metadata": {
  "kernelspec": {
   "display_name": "Python 3 (ipykernel)",
   "language": "python",
   "name": "python3"
  },
  "language_info": {
   "codemirror_mode": {
    "name": "ipython",
    "version": 3
   },
   "file_extension": ".py",
   "mimetype": "text/x-python",
   "name": "python",
   "nbconvert_exporter": "python",
   "pygments_lexer": "ipython3",
   "version": "3.9.13"
  }
 },
 "nbformat": 4,
 "nbformat_minor": 5
}
