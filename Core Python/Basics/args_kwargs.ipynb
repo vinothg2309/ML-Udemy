{
 "cells": [
  {
   "cell_type": "markdown",
   "id": "3b909c85-de2d-4656-a406-155a81aab110",
   "metadata": {},
   "source": [
    "# *Arg & **kwarg\n",
    "\n",
    "Special Symbols Used for passing arguments:-\n",
    "\n",
    "- *args (Non-Keyword Arguments)\n",
    "    - *args receives arguments as a tuple.\n",
    "- ****kwargs (Keyword Arguments)**\n",
    "    - **kwargs receives arguments as a dictionary.\n",
    "    \n",
    "https://www.geeksforgeeks.org/args-kwargs-python/"
   ]
  },
  {
   "cell_type": "markdown",
   "id": "8fc52982-5627-45fc-a672-e25bc2966b2a",
   "metadata": {},
   "source": [
    "# *Arg\n",
    "\n",
    "Non-Keyword Argument"
   ]
  },
  {
   "cell_type": "code",
   "execution_count": 15,
   "id": "704a959c-8e9d-489d-911d-156afbac8b41",
   "metadata": {},
   "outputs": [
    {
     "name": "stdout",
     "output_type": "stream",
     "text": [
      "type(argv) :  <class 'tuple'>\n",
      "Hello\n",
      "Welcome\n",
      "to\n",
      "Python\n"
     ]
    }
   ],
   "source": [
    "def myfunct(*argv):\n",
    "    print('type(argv) : ',type(argv))\n",
    "    for arg in argv:\n",
    "        print(arg)\n",
    "\n",
    "myfunct('Hello', 'Welcome', 'to', 'Python')"
   ]
  },
  {
   "cell_type": "code",
   "execution_count": 3,
   "id": "bab21742-8830-45bb-84df-a49a2db49238",
   "metadata": {},
   "outputs": [
    {
     "name": "stdout",
     "output_type": "stream",
     "text": [
      "First argument : Hello\n",
      "Next argument through *argv : Welcome\n",
      "Next argument through *argv : to\n",
      "Next argument through *argv : python\n"
     ]
    }
   ],
   "source": [
    "# Python program to illustrate *args with a first extra argument\n",
    "def myFun(arg1, *argv):\n",
    "    print(\"First argument :\", arg1)\n",
    "    for arg in argv:\n",
    "        print(\"Next argument through *argv :\", arg)\n",
    "  \n",
    "  \n",
    "myFun('Hello', 'Welcome', 'to', 'python')"
   ]
  },
  {
   "cell_type": "markdown",
   "id": "bf29adc7-2fb3-450d-9f8c-d8188c4ce411",
   "metadata": {},
   "source": [
    "# **kwargs (Keyword Arguments)"
   ]
  },
  {
   "cell_type": "code",
   "execution_count": 16,
   "id": "9d5f413b-1487-4d29-85c1-ee7ff8c5d709",
   "metadata": {},
   "outputs": [
    {
     "name": "stdout",
     "output_type": "stream",
     "text": [
      "type(kwargv) :  <class 'dict'>\n",
      "first == Python\n",
      "mid == is\n",
      "last == awesome\n"
     ]
    }
   ],
   "source": [
    "def myFun(**kwargv):\n",
    "    print('type(kwargv) : ',type(kwargv))\n",
    "    for key, value in kwargv.items():\n",
    "        print(\"%s == %s\" % (key, value))\n",
    "        \n",
    "myFun(first='Python', mid='is', last='awesome')"
   ]
  },
  {
   "cell_type": "code",
   "execution_count": 5,
   "id": "415e2947-2714-4a9c-b346-725ef8da387d",
   "metadata": {},
   "outputs": [
    {
     "name": "stdout",
     "output_type": "stream",
     "text": [
      "arg1:  Hi\n",
      "first == Geeks\n",
      "mid == for\n",
      "last == Geeks\n"
     ]
    }
   ],
   "source": [
    "def myFun(arg1, **a):\n",
    "    print('arg1: ', arg1)\n",
    "    for key, value in a.items():\n",
    "        print(\"%s == %s\" % (key, value))\n",
    "  \n",
    "  \n",
    "# Driver code\n",
    "myFun(\"Hi\", first='Geeks', mid='for', last='Geeks')"
   ]
  },
  {
   "cell_type": "markdown",
   "id": "3a1c20e2-4949-41be-a50f-ecdbc09e2bde",
   "metadata": {},
   "source": [
    "# Using both *args and **kwargs to call a function"
   ]
  },
  {
   "cell_type": "code",
   "execution_count": 12,
   "id": "7045a662-4334-4585-885e-4b5fe2a49f77",
   "metadata": {},
   "outputs": [
    {
     "name": "stdout",
     "output_type": "stream",
     "text": [
      "arg1: Geeks\n",
      "arg2: for\n",
      "arg3: Geeks\n",
      "arg1: Geeks\n",
      "arg2: for\n",
      "arg3: Geeks1\n"
     ]
    }
   ],
   "source": [
    "def myFun(arg1, arg2, arg3):\n",
    "    print(\"arg1:\", arg1)\n",
    "    print(\"arg2:\", arg2)\n",
    "    print(\"arg3:\", arg3)\n",
    "  \n",
    "  \n",
    "# Now we can use *args or **kwargs to\n",
    "# pass arguments to this function :\n",
    "args = (\"Geeks\", \"for\", \"Geeks\")\n",
    "myFun(*args)\n",
    "  \n",
    "kwargs = {\"arg1\": \"Geeks\", \"arg2\": \"for\", \"arg3\": \"Geeks\", \"arg3\": \"Geeks1\"}\n",
    "myFun(**kwargs)"
   ]
  },
  {
   "cell_type": "code",
   "execution_count": 13,
   "id": "a99254e9-45f4-42ec-82c0-45bec9d840ae",
   "metadata": {},
   "outputs": [
    {
     "ename": "TypeError",
     "evalue": "myFun() takes 3 positional arguments but 4 were given",
     "output_type": "error",
     "traceback": [
      "\u001b[1;31m---------------------------------------------------------------------------\u001b[0m",
      "\u001b[1;31mTypeError\u001b[0m                                 Traceback (most recent call last)",
      "\u001b[1;32m~\\AppData\\Local\\Temp\\ipykernel_1732\\2875444951.py\u001b[0m in \u001b[0;36m<module>\u001b[1;34m\u001b[0m\n\u001b[0;32m      1\u001b[0m \u001b[0margs\u001b[0m \u001b[1;33m=\u001b[0m \u001b[1;33m(\u001b[0m\u001b[1;34m\"Geeks\"\u001b[0m\u001b[1;33m,\u001b[0m \u001b[1;34m\"for\"\u001b[0m\u001b[1;33m,\u001b[0m \u001b[1;34m\"Geeks\"\u001b[0m\u001b[1;33m,\u001b[0m \u001b[1;34m\"Geeks1\"\u001b[0m\u001b[1;33m)\u001b[0m\u001b[1;33m\u001b[0m\u001b[1;33m\u001b[0m\u001b[0m\n\u001b[1;32m----> 2\u001b[1;33m \u001b[0mmyFun\u001b[0m\u001b[1;33m(\u001b[0m\u001b[1;33m*\u001b[0m\u001b[0margs\u001b[0m\u001b[1;33m)\u001b[0m\u001b[1;33m\u001b[0m\u001b[1;33m\u001b[0m\u001b[0m\n\u001b[0m",
      "\u001b[1;31mTypeError\u001b[0m: myFun() takes 3 positional arguments but 4 were given"
     ]
    }
   ],
   "source": [
    "args = (\"Geeks\", \"for\", \"Geeks\", \"Geeks1\")\n",
    "myFun(*args)"
   ]
  },
  {
   "cell_type": "code",
   "execution_count": 19,
   "id": "930c08d0-5822-4344-8d82-d2927214e410",
   "metadata": {},
   "outputs": [
    {
     "name": "stdout",
     "output_type": "stream",
     "text": [
      "args:  ('geeks', 'for', 'geeks', '123', '567')\n",
      "kwargs:  {'first': 'Geeks', 'mid': 'for', 'last': 'Geeks', 'test': 'Man'}\n"
     ]
    }
   ],
   "source": [
    "def myFun(*args, **kwargs):\n",
    "    print(\"args: \", args)\n",
    "    print(\"kwargs: \", kwargs)\n",
    "  \n",
    "  \n",
    "# Now we can use both *args ,**kwargs\n",
    "# to pass arguments to this function :\n",
    "myFun('geeks', 'for', 'geeks', '123', '567', first=\"Geeks\", mid=\"for\", last=\"Geeks\", test=\"Man\")"
   ]
  },
  {
   "cell_type": "markdown",
   "id": "0e4f8ee6-19a0-4038-b215-8b22964931c8",
   "metadata": {},
   "source": [
    "# Using *args and **kwargs to set values of object"
   ]
  },
  {
   "cell_type": "code",
   "execution_count": 20,
   "id": "435e5a3a-7c4f-4ff5-b406-2e5c934e116b",
   "metadata": {},
   "outputs": [
    {
     "name": "stdout",
     "output_type": "stream",
     "text": [
      "red\n",
      "250\n"
     ]
    }
   ],
   "source": [
    "class car(): #defining car class\n",
    "    def __init__(self,*args): #args receives unlimited no. of arguments as an array\n",
    "        self.speed = args[0] #access args index like array does\n",
    "        self.color=args[1]\n",
    "                  \n",
    "#creating objects of car class\n",
    "          \n",
    "audi=car(200,'red') \n",
    "bmw=car(250,'black')\n",
    "mb=car(190,'white')\n",
    "     \n",
    "print(audi.color)\n",
    "print(bmw.speed)"
   ]
  },
  {
   "cell_type": "code",
   "execution_count": 21,
   "id": "afc3da95-30d1-4c30-8dd6-829312442334",
   "metadata": {},
   "outputs": [
    {
     "name": "stdout",
     "output_type": "stream",
     "text": [
      "red\n",
      "250\n"
     ]
    }
   ],
   "source": [
    "class car(): #defining car class\n",
    "    def __init__(self,**kwargs): #args receives unlimited no. of arguments as an array\n",
    "        self.speed = kwargs['s'] #access args index like array does\n",
    "        self.color = kwargs['c']\n",
    "                  \n",
    "#creating objects of car class\n",
    "          \n",
    "audi=car(s=200,c='red') \n",
    "bmw=car(s=250,c='black')\n",
    "mb=car(s=190,c='white')\n",
    "     \n",
    "print(audi.color)\n",
    "print(bmw.speed)"
   ]
  },
  {
   "cell_type": "code",
   "execution_count": null,
   "id": "63966089-2e10-48d4-b4a2-e1a798d9434d",
   "metadata": {},
   "outputs": [],
   "source": []
  }
 ],
 "metadata": {
  "kernelspec": {
   "display_name": "Python 3 (ipykernel)",
   "language": "python",
   "name": "python3"
  },
  "language_info": {
   "codemirror_mode": {
    "name": "ipython",
    "version": 3
   },
   "file_extension": ".py",
   "mimetype": "text/x-python",
   "name": "python",
   "nbconvert_exporter": "python",
   "pygments_lexer": "ipython3",
   "version": "3.9.13"
  }
 },
 "nbformat": 4,
 "nbformat_minor": 5
}
