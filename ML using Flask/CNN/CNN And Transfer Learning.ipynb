{
 "cells": [
  {
   "cell_type": "markdown",
   "id": "1ee9fab6",
   "metadata": {},
   "source": [
    "# Creating CNN Using Scratch And Transfer Learning¶"
   ]
  },
  {
   "cell_type": "markdown",
   "id": "a0cceb08",
   "metadata": {},
   "source": [
    "## https://github.com/krishnaik06/Malaria-Detection/blob/master/CNN%20And%20Transfer%20LEarning.ipynb"
   ]
  },
  {
   "cell_type": "code",
   "execution_count": 55,
   "id": "cf9d1398",
   "metadata": {},
   "outputs": [],
   "source": [
    "# import the libraries as shown below\n",
    "\n",
    "from tensorflow.keras.layers import Input, Lambda, Dense, Flatten,Conv2D\n",
    "from tensorflow.keras.models import Model\n",
    "from tensorflow.keras.applications.vgg19 import VGG19\n",
    "from tensorflow.keras.applications.vgg19 import preprocess_input\n",
    "from tensorflow.keras.preprocessing import image\n",
    "from tensorflow.keras.preprocessing.image import ImageDataGenerator,load_img\n",
    "from tensorflow.keras.models import Sequential\n",
    "import numpy as np\n",
    "from glob import glob\n",
    "import matplotlib.pyplot as plt"
   ]
  },
  {
   "cell_type": "code",
   "execution_count": 2,
   "id": "87fba4d2",
   "metadata": {},
   "outputs": [],
   "source": [
    "# re-size all the images to this which will be bigger in size than original which is suited for the model\n",
    "IMAGE_SIZE = [224, 224]\n",
    "\n",
    "train_path = 'Dataset/Train'\n",
    "valid_path = 'Dataset/Test'"
   ]
  },
  {
   "cell_type": "code",
   "execution_count": 3,
   "id": "c4572c5a",
   "metadata": {},
   "outputs": [
    {
     "data": {
      "text/plain": [
       "[224, 224, 3]"
      ]
     },
     "execution_count": 3,
     "metadata": {},
     "output_type": "execute_result"
    }
   ],
   "source": [
    "IMAGE_SIZE+[3]"
   ]
  },
  {
   "cell_type": "code",
   "execution_count": 4,
   "id": "c57b58ee",
   "metadata": {},
   "outputs": [
    {
     "name": "stdout",
     "output_type": "stream",
     "text": [
      "Downloading data from https://storage.googleapis.com/tensorflow/keras-applications/vgg19/vgg19_weights_tf_dim_ordering_tf_kernels_notop.h5\n",
      "80142336/80134624 [==============================] - 12s 0us/step\n"
     ]
    }
   ],
   "source": [
    "# Import the Vgg 19 library as shown below and add preprocessing layer to the front of VGG\n",
    "# Here we will be using imagenet weights\n",
    "# 3-RGB channel for colored image. If it black & white image then it will 2\n",
    "# include_top=False - Remove 1st & last layer. We provide image size in 1st layer & no. of classes(labels) in last layer.\n",
    "\n",
    "vgg19 = VGG19(input_shape=IMAGE_SIZE+[3], weights='imagenet',include_top=False)"
   ]
  },
  {
   "cell_type": "code",
   "execution_count": 5,
   "id": "37242e72",
   "metadata": {},
   "outputs": [
    {
     "name": "stdout",
     "output_type": "stream",
     "text": [
      "Model: \"vgg19\"\n",
      "_________________________________________________________________\n",
      "Layer (type)                 Output Shape              Param #   \n",
      "=================================================================\n",
      "input_1 (InputLayer)         [(None, 224, 224, 3)]     0         \n",
      "_________________________________________________________________\n",
      "block1_conv1 (Conv2D)        (None, 224, 224, 64)      1792      \n",
      "_________________________________________________________________\n",
      "block1_conv2 (Conv2D)        (None, 224, 224, 64)      36928     \n",
      "_________________________________________________________________\n",
      "block1_pool (MaxPooling2D)   (None, 112, 112, 64)      0         \n",
      "_________________________________________________________________\n",
      "block2_conv1 (Conv2D)        (None, 112, 112, 128)     73856     \n",
      "_________________________________________________________________\n",
      "block2_conv2 (Conv2D)        (None, 112, 112, 128)     147584    \n",
      "_________________________________________________________________\n",
      "block2_pool (MaxPooling2D)   (None, 56, 56, 128)       0         \n",
      "_________________________________________________________________\n",
      "block3_conv1 (Conv2D)        (None, 56, 56, 256)       295168    \n",
      "_________________________________________________________________\n",
      "block3_conv2 (Conv2D)        (None, 56, 56, 256)       590080    \n",
      "_________________________________________________________________\n",
      "block3_conv3 (Conv2D)        (None, 56, 56, 256)       590080    \n",
      "_________________________________________________________________\n",
      "block3_conv4 (Conv2D)        (None, 56, 56, 256)       590080    \n",
      "_________________________________________________________________\n",
      "block3_pool (MaxPooling2D)   (None, 28, 28, 256)       0         \n",
      "_________________________________________________________________\n",
      "block4_conv1 (Conv2D)        (None, 28, 28, 512)       1180160   \n",
      "_________________________________________________________________\n",
      "block4_conv2 (Conv2D)        (None, 28, 28, 512)       2359808   \n",
      "_________________________________________________________________\n",
      "block4_conv3 (Conv2D)        (None, 28, 28, 512)       2359808   \n",
      "_________________________________________________________________\n",
      "block4_conv4 (Conv2D)        (None, 28, 28, 512)       2359808   \n",
      "_________________________________________________________________\n",
      "block4_pool (MaxPooling2D)   (None, 14, 14, 512)       0         \n",
      "_________________________________________________________________\n",
      "block5_conv1 (Conv2D)        (None, 14, 14, 512)       2359808   \n",
      "_________________________________________________________________\n",
      "block5_conv2 (Conv2D)        (None, 14, 14, 512)       2359808   \n",
      "_________________________________________________________________\n",
      "block5_conv3 (Conv2D)        (None, 14, 14, 512)       2359808   \n",
      "_________________________________________________________________\n",
      "block5_conv4 (Conv2D)        (None, 14, 14, 512)       2359808   \n",
      "_________________________________________________________________\n",
      "block5_pool (MaxPooling2D)   (None, 7, 7, 512)         0         \n",
      "=================================================================\n",
      "Total params: 20,024,384\n",
      "Trainable params: 20,024,384\n",
      "Non-trainable params: 0\n",
      "_________________________________________________________________\n"
     ]
    }
   ],
   "source": [
    "vgg19.summary() # 1st layer is our image size 224, 224, 3. Last layer is blank instead of 1000 labels as in imagenet"
   ]
  },
  {
   "cell_type": "code",
   "execution_count": 6,
   "id": "b694de8c",
   "metadata": {},
   "outputs": [],
   "source": [
    "# don't train existing weights\n",
    "# We won't retrain each & every layer weights again rather use same weight as in VGG19.\n",
    "# Retraining should happen only at the last layer.\n",
    "\n",
    "for layer in vgg19.layers:\n",
    "    layer.trainable = False"
   ]
  },
  {
   "cell_type": "code",
   "execution_count": 9,
   "id": "b4d3d1bf",
   "metadata": {},
   "outputs": [],
   "source": [
    "# useful for getting number of output classes\n",
    "folders = glob('Dataset/Train/*')"
   ]
  },
  {
   "cell_type": "code",
   "execution_count": 10,
   "id": "5b958899",
   "metadata": {},
   "outputs": [
    {
     "data": {
      "text/plain": [
       "['Dataset/Train/Parasite', 'Dataset/Train/Uninfected']"
      ]
     },
     "execution_count": 10,
     "metadata": {},
     "output_type": "execute_result"
    }
   ],
   "source": [
    "folders"
   ]
  },
  {
   "cell_type": "code",
   "execution_count": 11,
   "id": "eae2ed5c",
   "metadata": {},
   "outputs": [],
   "source": [
    "# our layers - you can add more if you want\n",
    "x = Flatten()(vgg19.output)"
   ]
  },
  {
   "cell_type": "code",
   "execution_count": 13,
   "id": "80276bc8",
   "metadata": {},
   "outputs": [
    {
     "data": {
      "text/plain": [
       "<KerasTensor: shape=(None, 7, 7, 512) dtype=float32 (created by layer 'block5_pool')>"
      ]
     },
     "execution_count": 13,
     "metadata": {},
     "output_type": "execute_result"
    }
   ],
   "source": [
    "vgg19.output"
   ]
  },
  {
   "cell_type": "code",
   "execution_count": 14,
   "id": "c365d8a4",
   "metadata": {},
   "outputs": [
    {
     "data": {
      "text/plain": [
       "<KerasTensor: shape=(None, 25088) dtype=float32 (created by layer 'flatten')>"
      ]
     },
     "execution_count": 14,
     "metadata": {},
     "output_type": "execute_result"
    }
   ],
   "source": [
    "x"
   ]
  },
  {
   "cell_type": "code",
   "execution_count": 12,
   "id": "bb89aed2",
   "metadata": {},
   "outputs": [
    {
     "data": {
      "text/plain": [
       "2"
      ]
     },
     "execution_count": 12,
     "metadata": {},
     "output_type": "execute_result"
    }
   ],
   "source": [
    "len(folders)"
   ]
  },
  {
   "cell_type": "code",
   "execution_count": 17,
   "id": "1965e129",
   "metadata": {},
   "outputs": [],
   "source": [
    "prediction = Dense(len(folders), activation='softmax')(x)\n",
    "# create a model object\n",
    "model=Model(inputs=vgg19.input, outputs=prediction)"
   ]
  },
  {
   "cell_type": "code",
   "execution_count": 18,
   "id": "c0108f5a",
   "metadata": {},
   "outputs": [
    {
     "name": "stdout",
     "output_type": "stream",
     "text": [
      "Model: \"model_2\"\n",
      "_________________________________________________________________\n",
      "Layer (type)                 Output Shape              Param #   \n",
      "=================================================================\n",
      "input_1 (InputLayer)         [(None, 224, 224, 3)]     0         \n",
      "_________________________________________________________________\n",
      "block1_conv1 (Conv2D)        (None, 224, 224, 64)      1792      \n",
      "_________________________________________________________________\n",
      "block1_conv2 (Conv2D)        (None, 224, 224, 64)      36928     \n",
      "_________________________________________________________________\n",
      "block1_pool (MaxPooling2D)   (None, 112, 112, 64)      0         \n",
      "_________________________________________________________________\n",
      "block2_conv1 (Conv2D)        (None, 112, 112, 128)     73856     \n",
      "_________________________________________________________________\n",
      "block2_conv2 (Conv2D)        (None, 112, 112, 128)     147584    \n",
      "_________________________________________________________________\n",
      "block2_pool (MaxPooling2D)   (None, 56, 56, 128)       0         \n",
      "_________________________________________________________________\n",
      "block3_conv1 (Conv2D)        (None, 56, 56, 256)       295168    \n",
      "_________________________________________________________________\n",
      "block3_conv2 (Conv2D)        (None, 56, 56, 256)       590080    \n",
      "_________________________________________________________________\n",
      "block3_conv3 (Conv2D)        (None, 56, 56, 256)       590080    \n",
      "_________________________________________________________________\n",
      "block3_conv4 (Conv2D)        (None, 56, 56, 256)       590080    \n",
      "_________________________________________________________________\n",
      "block3_pool (MaxPooling2D)   (None, 28, 28, 256)       0         \n",
      "_________________________________________________________________\n",
      "block4_conv1 (Conv2D)        (None, 28, 28, 512)       1180160   \n",
      "_________________________________________________________________\n",
      "block4_conv2 (Conv2D)        (None, 28, 28, 512)       2359808   \n",
      "_________________________________________________________________\n",
      "block4_conv3 (Conv2D)        (None, 28, 28, 512)       2359808   \n",
      "_________________________________________________________________\n",
      "block4_conv4 (Conv2D)        (None, 28, 28, 512)       2359808   \n",
      "_________________________________________________________________\n",
      "block4_pool (MaxPooling2D)   (None, 14, 14, 512)       0         \n",
      "_________________________________________________________________\n",
      "block5_conv1 (Conv2D)        (None, 14, 14, 512)       2359808   \n",
      "_________________________________________________________________\n",
      "block5_conv2 (Conv2D)        (None, 14, 14, 512)       2359808   \n",
      "_________________________________________________________________\n",
      "block5_conv3 (Conv2D)        (None, 14, 14, 512)       2359808   \n",
      "_________________________________________________________________\n",
      "block5_conv4 (Conv2D)        (None, 14, 14, 512)       2359808   \n",
      "_________________________________________________________________\n",
      "block5_pool (MaxPooling2D)   (None, 7, 7, 512)         0         \n",
      "_________________________________________________________________\n",
      "flatten (Flatten)            (None, 25088)             0         \n",
      "_________________________________________________________________\n",
      "dense_2 (Dense)              (None, 2)                 50178     \n",
      "=================================================================\n",
      "Total params: 20,074,562\n",
      "Trainable params: 50,178\n",
      "Non-trainable params: 20,024,384\n",
      "_________________________________________________________________\n"
     ]
    }
   ],
   "source": [
    "# view the structure of the model\n",
    "model.summary()"
   ]
  },
  {
   "cell_type": "code",
   "execution_count": 19,
   "id": "34180ccb",
   "metadata": {},
   "outputs": [],
   "source": [
    "model.compile(loss='categorical_crossentropy',optimizer='adam',metrics=['accuracy'])"
   ]
  },
  {
   "cell_type": "code",
   "execution_count": 20,
   "id": "15cb3d16",
   "metadata": {},
   "outputs": [],
   "source": [
    "from tensorflow.keras.preprocessing.image import ImageDataGenerator\n",
    "\n",
    "#Applying image augmentation - flip, shear,zoom etc\n",
    "train_datagen = ImageDataGenerator(rescale=1./255, shear_range=0.2,zoom_range=0.2,horizontal_flip=True)\n",
    "test_datagen = ImageDataGenerator(rescale=1./255)"
   ]
  },
  {
   "cell_type": "code",
   "execution_count": 23,
   "id": "b85c262a",
   "metadata": {},
   "outputs": [
    {
     "name": "stdout",
     "output_type": "stream",
     "text": [
      "Found 416 images belonging to 2 classes.\n"
     ]
    }
   ],
   "source": [
    "# Make sure you provide the same target size as initialied for the image size\n",
    "\n",
    "training_set=train_datagen.flow_from_directory(directory='Dataset/Train',target_size=(244,244),batch_size=32\n",
    "                                               ,class_mode='categorical')\n"
   ]
  },
  {
   "cell_type": "code",
   "execution_count": 22,
   "id": "dd0afbc7",
   "metadata": {},
   "outputs": [
    {
     "data": {
      "text/plain": [
       "<tensorflow.python.keras.preprocessing.image.DirectoryIterator at 0x7fab51a2f4f0>"
      ]
     },
     "execution_count": 22,
     "metadata": {},
     "output_type": "execute_result"
    }
   ],
   "source": [
    "training_set"
   ]
  },
  {
   "cell_type": "code",
   "execution_count": 24,
   "id": "0dd8fa2c",
   "metadata": {},
   "outputs": [
    {
     "name": "stdout",
     "output_type": "stream",
     "text": [
      "Found 134 images belonging to 2 classes.\n"
     ]
    }
   ],
   "source": [
    "# Make sure you provide the same target size as initialied for the image size\n",
    "\n",
    "test_set=test_datagen.flow_from_directory(directory='Dataset/Test',target_size=(244,244),batch_size=32\n",
    "                                               ,class_mode='categorical')\n"
   ]
  },
  {
   "cell_type": "code",
   "execution_count": 80,
   "id": "fc9bf987",
   "metadata": {},
   "outputs": [
    {
     "name": "stdout",
     "output_type": "stream",
     "text": [
      "Epoch 1/10\n",
      "13/13 [==============================] - 599s 46s/step - loss: 0.3005 - accuracy: 0.8582 - val_loss: 0.3451 - val_accuracy: 0.8433\n",
      "Epoch 2/10\n",
      "13/13 [==============================] - 494s 39s/step - loss: 0.2451 - accuracy: 0.9062 - val_loss: 0.3780 - val_accuracy: 0.8284\n",
      "Epoch 3/10\n",
      "13/13 [==============================] - ETA: 0s - loss: 0.2537 - accuracy: 0.9111 - 1243s 101s/step - loss: 0.2537 - accuracy: 0.9111 - val_loss: 0.3550 - val_accuracy: 0.8060\n",
      "Epoch 4/10\n",
      "13/13 [==============================] - 638s 49s/step - loss: 0.2683 - accuracy: 0.8894 - val_loss: 0.4049 - val_accuracy: 0.7836\n",
      "Epoch 5/10\n",
      "13/13 [==============================] - 669s 52s/step - loss: 0.2853 - accuracy: 0.8606 - val_loss: 0.4502 - val_accuracy: 0.7164\n",
      "Epoch 6/10\n",
      "13/13 [==============================] - 490s 38s/step - loss: 0.2578 - accuracy: 0.8942 - val_loss: 0.3705 - val_accuracy: 0.7910\n",
      "Epoch 7/10\n"
     ]
    },
    {
     "ename": "KeyboardInterrupt",
     "evalue": "",
     "output_type": "error",
     "traceback": [
      "\u001b[0;31m---------------------------------------------------------------------------\u001b[0m",
      "\u001b[0;31mKeyboardInterrupt\u001b[0m                         Traceback (most recent call last)",
      "\u001b[0;32m<ipython-input-80-b34229f2ed14>\u001b[0m in \u001b[0;36m<module>\u001b[0;34m\u001b[0m\n\u001b[1;32m      2\u001b[0m \u001b[0;31m# Run the cell. It will take some time to execute\u001b[0m\u001b[0;34m\u001b[0m\u001b[0;34m\u001b[0m\u001b[0;34m\u001b[0m\u001b[0m\n\u001b[1;32m      3\u001b[0m \u001b[0;34m\u001b[0m\u001b[0m\n\u001b[0;32m----> 4\u001b[0;31m \u001b[0mr\u001b[0m \u001b[0;34m=\u001b[0m \u001b[0mmodel\u001b[0m\u001b[0;34m.\u001b[0m\u001b[0mfit\u001b[0m\u001b[0;34m(\u001b[0m\u001b[0mtraining_set\u001b[0m\u001b[0;34m,\u001b[0m \u001b[0mvalidation_data\u001b[0m\u001b[0;34m=\u001b[0m\u001b[0mtest_set\u001b[0m\u001b[0;34m,\u001b[0m\u001b[0mepochs\u001b[0m\u001b[0;34m=\u001b[0m\u001b[0;36m10\u001b[0m\u001b[0;34m,\u001b[0m\u001b[0msteps_per_epoch\u001b[0m\u001b[0;34m=\u001b[0m\u001b[0mlen\u001b[0m\u001b[0;34m(\u001b[0m\u001b[0mtraining_set\u001b[0m\u001b[0;34m)\u001b[0m\u001b[0;34m,\u001b[0m\u001b[0mvalidation_steps\u001b[0m\u001b[0;34m=\u001b[0m\u001b[0mlen\u001b[0m\u001b[0;34m(\u001b[0m\u001b[0mtest_set\u001b[0m\u001b[0;34m)\u001b[0m\u001b[0;34m)\u001b[0m\u001b[0;34m\u001b[0m\u001b[0;34m\u001b[0m\u001b[0m\n\u001b[0m",
      "\u001b[0;32m~/anaconda3/lib/python3.8/site-packages/tensorflow/python/keras/engine/training.py\u001b[0m in \u001b[0;36mfit\u001b[0;34m(self, x, y, batch_size, epochs, verbose, callbacks, validation_split, validation_data, shuffle, class_weight, sample_weight, initial_epoch, steps_per_epoch, validation_steps, validation_batch_size, validation_freq, max_queue_size, workers, use_multiprocessing)\u001b[0m\n\u001b[1;32m   1181\u001b[0m                 _r=1):\n\u001b[1;32m   1182\u001b[0m               \u001b[0mcallbacks\u001b[0m\u001b[0;34m.\u001b[0m\u001b[0mon_train_batch_begin\u001b[0m\u001b[0;34m(\u001b[0m\u001b[0mstep\u001b[0m\u001b[0;34m)\u001b[0m\u001b[0;34m\u001b[0m\u001b[0;34m\u001b[0m\u001b[0m\n\u001b[0;32m-> 1183\u001b[0;31m               \u001b[0mtmp_logs\u001b[0m \u001b[0;34m=\u001b[0m \u001b[0mself\u001b[0m\u001b[0;34m.\u001b[0m\u001b[0mtrain_function\u001b[0m\u001b[0;34m(\u001b[0m\u001b[0miterator\u001b[0m\u001b[0;34m)\u001b[0m\u001b[0;34m\u001b[0m\u001b[0;34m\u001b[0m\u001b[0m\n\u001b[0m\u001b[1;32m   1184\u001b[0m               \u001b[0;32mif\u001b[0m \u001b[0mdata_handler\u001b[0m\u001b[0;34m.\u001b[0m\u001b[0mshould_sync\u001b[0m\u001b[0;34m:\u001b[0m\u001b[0;34m\u001b[0m\u001b[0;34m\u001b[0m\u001b[0m\n\u001b[1;32m   1185\u001b[0m                 \u001b[0mcontext\u001b[0m\u001b[0;34m.\u001b[0m\u001b[0masync_wait\u001b[0m\u001b[0;34m(\u001b[0m\u001b[0;34m)\u001b[0m\u001b[0;34m\u001b[0m\u001b[0;34m\u001b[0m\u001b[0m\n",
      "\u001b[0;32m~/anaconda3/lib/python3.8/site-packages/tensorflow/python/eager/def_function.py\u001b[0m in \u001b[0;36m__call__\u001b[0;34m(self, *args, **kwds)\u001b[0m\n\u001b[1;32m    887\u001b[0m \u001b[0;34m\u001b[0m\u001b[0m\n\u001b[1;32m    888\u001b[0m       \u001b[0;32mwith\u001b[0m \u001b[0mOptionalXlaContext\u001b[0m\u001b[0;34m(\u001b[0m\u001b[0mself\u001b[0m\u001b[0;34m.\u001b[0m\u001b[0m_jit_compile\u001b[0m\u001b[0;34m)\u001b[0m\u001b[0;34m:\u001b[0m\u001b[0;34m\u001b[0m\u001b[0;34m\u001b[0m\u001b[0m\n\u001b[0;32m--> 889\u001b[0;31m         \u001b[0mresult\u001b[0m \u001b[0;34m=\u001b[0m \u001b[0mself\u001b[0m\u001b[0;34m.\u001b[0m\u001b[0m_call\u001b[0m\u001b[0;34m(\u001b[0m\u001b[0;34m*\u001b[0m\u001b[0margs\u001b[0m\u001b[0;34m,\u001b[0m \u001b[0;34m**\u001b[0m\u001b[0mkwds\u001b[0m\u001b[0;34m)\u001b[0m\u001b[0;34m\u001b[0m\u001b[0;34m\u001b[0m\u001b[0m\n\u001b[0m\u001b[1;32m    890\u001b[0m \u001b[0;34m\u001b[0m\u001b[0m\n\u001b[1;32m    891\u001b[0m       \u001b[0mnew_tracing_count\u001b[0m \u001b[0;34m=\u001b[0m \u001b[0mself\u001b[0m\u001b[0;34m.\u001b[0m\u001b[0mexperimental_get_tracing_count\u001b[0m\u001b[0;34m(\u001b[0m\u001b[0;34m)\u001b[0m\u001b[0;34m\u001b[0m\u001b[0;34m\u001b[0m\u001b[0m\n",
      "\u001b[0;32m~/anaconda3/lib/python3.8/site-packages/tensorflow/python/eager/def_function.py\u001b[0m in \u001b[0;36m_call\u001b[0;34m(self, *args, **kwds)\u001b[0m\n\u001b[1;32m    922\u001b[0m       \u001b[0;31m# In this case we have not created variables on the first call. So we can\u001b[0m\u001b[0;34m\u001b[0m\u001b[0;34m\u001b[0m\u001b[0;34m\u001b[0m\u001b[0m\n\u001b[1;32m    923\u001b[0m       \u001b[0;31m# run the first trace but we should fail if variables are created.\u001b[0m\u001b[0;34m\u001b[0m\u001b[0;34m\u001b[0m\u001b[0;34m\u001b[0m\u001b[0m\n\u001b[0;32m--> 924\u001b[0;31m       \u001b[0mresults\u001b[0m \u001b[0;34m=\u001b[0m \u001b[0mself\u001b[0m\u001b[0;34m.\u001b[0m\u001b[0m_stateful_fn\u001b[0m\u001b[0;34m(\u001b[0m\u001b[0;34m*\u001b[0m\u001b[0margs\u001b[0m\u001b[0;34m,\u001b[0m \u001b[0;34m**\u001b[0m\u001b[0mkwds\u001b[0m\u001b[0;34m)\u001b[0m\u001b[0;34m\u001b[0m\u001b[0;34m\u001b[0m\u001b[0m\n\u001b[0m\u001b[1;32m    925\u001b[0m       \u001b[0;32mif\u001b[0m \u001b[0mself\u001b[0m\u001b[0;34m.\u001b[0m\u001b[0m_created_variables\u001b[0m\u001b[0;34m:\u001b[0m\u001b[0;34m\u001b[0m\u001b[0;34m\u001b[0m\u001b[0m\n\u001b[1;32m    926\u001b[0m         raise ValueError(\"Creating variables on a non-first call to a function\"\n",
      "\u001b[0;32m~/anaconda3/lib/python3.8/site-packages/tensorflow/python/eager/function.py\u001b[0m in \u001b[0;36m__call__\u001b[0;34m(self, *args, **kwargs)\u001b[0m\n\u001b[1;32m   3021\u001b[0m       (graph_function,\n\u001b[1;32m   3022\u001b[0m        filtered_flat_args) = self._maybe_define_function(args, kwargs)\n\u001b[0;32m-> 3023\u001b[0;31m     return graph_function._call_flat(\n\u001b[0m\u001b[1;32m   3024\u001b[0m         filtered_flat_args, captured_inputs=graph_function.captured_inputs)  # pylint: disable=protected-access\n\u001b[1;32m   3025\u001b[0m \u001b[0;34m\u001b[0m\u001b[0m\n",
      "\u001b[0;32m~/anaconda3/lib/python3.8/site-packages/tensorflow/python/eager/function.py\u001b[0m in \u001b[0;36m_call_flat\u001b[0;34m(self, args, captured_inputs, cancellation_manager)\u001b[0m\n\u001b[1;32m   1958\u001b[0m         and executing_eagerly):\n\u001b[1;32m   1959\u001b[0m       \u001b[0;31m# No tape is watching; skip to running the function.\u001b[0m\u001b[0;34m\u001b[0m\u001b[0;34m\u001b[0m\u001b[0;34m\u001b[0m\u001b[0m\n\u001b[0;32m-> 1960\u001b[0;31m       return self._build_call_outputs(self._inference_function.call(\n\u001b[0m\u001b[1;32m   1961\u001b[0m           ctx, args, cancellation_manager=cancellation_manager))\n\u001b[1;32m   1962\u001b[0m     forward_backward = self._select_forward_and_backward_functions(\n",
      "\u001b[0;32m~/anaconda3/lib/python3.8/site-packages/tensorflow/python/eager/function.py\u001b[0m in \u001b[0;36mcall\u001b[0;34m(self, ctx, args, cancellation_manager)\u001b[0m\n\u001b[1;32m    589\u001b[0m       \u001b[0;32mwith\u001b[0m \u001b[0m_InterpolateFunctionError\u001b[0m\u001b[0;34m(\u001b[0m\u001b[0mself\u001b[0m\u001b[0;34m)\u001b[0m\u001b[0;34m:\u001b[0m\u001b[0;34m\u001b[0m\u001b[0;34m\u001b[0m\u001b[0m\n\u001b[1;32m    590\u001b[0m         \u001b[0;32mif\u001b[0m \u001b[0mcancellation_manager\u001b[0m \u001b[0;32mis\u001b[0m \u001b[0;32mNone\u001b[0m\u001b[0;34m:\u001b[0m\u001b[0;34m\u001b[0m\u001b[0;34m\u001b[0m\u001b[0m\n\u001b[0;32m--> 591\u001b[0;31m           outputs = execute.execute(\n\u001b[0m\u001b[1;32m    592\u001b[0m               \u001b[0mstr\u001b[0m\u001b[0;34m(\u001b[0m\u001b[0mself\u001b[0m\u001b[0;34m.\u001b[0m\u001b[0msignature\u001b[0m\u001b[0;34m.\u001b[0m\u001b[0mname\u001b[0m\u001b[0;34m)\u001b[0m\u001b[0;34m,\u001b[0m\u001b[0;34m\u001b[0m\u001b[0;34m\u001b[0m\u001b[0m\n\u001b[1;32m    593\u001b[0m               \u001b[0mnum_outputs\u001b[0m\u001b[0;34m=\u001b[0m\u001b[0mself\u001b[0m\u001b[0;34m.\u001b[0m\u001b[0m_num_outputs\u001b[0m\u001b[0;34m,\u001b[0m\u001b[0;34m\u001b[0m\u001b[0;34m\u001b[0m\u001b[0m\n",
      "\u001b[0;32m~/anaconda3/lib/python3.8/site-packages/tensorflow/python/eager/execute.py\u001b[0m in \u001b[0;36mquick_execute\u001b[0;34m(op_name, num_outputs, inputs, attrs, ctx, name)\u001b[0m\n\u001b[1;32m     57\u001b[0m   \u001b[0;32mtry\u001b[0m\u001b[0;34m:\u001b[0m\u001b[0;34m\u001b[0m\u001b[0;34m\u001b[0m\u001b[0m\n\u001b[1;32m     58\u001b[0m     \u001b[0mctx\u001b[0m\u001b[0;34m.\u001b[0m\u001b[0mensure_initialized\u001b[0m\u001b[0;34m(\u001b[0m\u001b[0;34m)\u001b[0m\u001b[0;34m\u001b[0m\u001b[0;34m\u001b[0m\u001b[0m\n\u001b[0;32m---> 59\u001b[0;31m     tensors = pywrap_tfe.TFE_Py_Execute(ctx._handle, device_name, op_name,\n\u001b[0m\u001b[1;32m     60\u001b[0m                                         inputs, attrs, num_outputs)\n\u001b[1;32m     61\u001b[0m   \u001b[0;32mexcept\u001b[0m \u001b[0mcore\u001b[0m\u001b[0;34m.\u001b[0m\u001b[0m_NotOkStatusException\u001b[0m \u001b[0;32mas\u001b[0m \u001b[0me\u001b[0m\u001b[0;34m:\u001b[0m\u001b[0;34m\u001b[0m\u001b[0;34m\u001b[0m\u001b[0m\n",
      "\u001b[0;31mKeyboardInterrupt\u001b[0m: "
     ]
    }
   ],
   "source": [
    "# fit the model\n",
    "# Run the cell. It will take some time to execute\n",
    "\n",
    "r = model.fit(training_set, validation_data=test_set,epochs=10,steps_per_epoch=len(training_set),validation_steps=len(test_set))"
   ]
  },
  {
   "cell_type": "code",
   "execution_count": 81,
   "id": "7211b883",
   "metadata": {},
   "outputs": [
    {
     "data": {
      "text/plain": [
       "{'loss': [0.4752548038959503, 0.3789883255958557],\n",
       " 'accuracy': [0.75, 0.8413461446762085],\n",
       " 'val_loss': [0.4546518325805664, 0.6120035648345947],\n",
       " 'val_accuracy': [0.7238805890083313, 0.6716417670249939]}"
      ]
     },
     "execution_count": 81,
     "metadata": {},
     "output_type": "execute_result"
    }
   ],
   "source": [
    "r.history"
   ]
  },
  {
   "cell_type": "code",
   "execution_count": 82,
   "id": "d42a4b58",
   "metadata": {},
   "outputs": [
    {
     "data": {
      "image/png": "[encoded data removed]",
      "text/plain": [
       "<Figure size 432x288 with 1 Axes>"
      ]
     },
     "metadata": {
      "needs_background": "light"
     },
     "output_type": "display_data"
    },
    {
     "data": {
      "image/png": "[encoded data removed]",
      "text/plain": [
       "<Figure size 432x288 with 1 Axes>"
      ]
     },
     "metadata": {
      "needs_background": "light"
     },
     "output_type": "display_data"
    },
    {
     "data": {
      "text/plain": [
       "<Figure size 432x288 with 0 Axes>"
      ]
     },
     "metadata": {},
     "output_type": "display_data"
    }
   ],
   "source": [
    "\n",
    "# plot the loss\n",
    "plt.plot(r.history['loss'], label='train loss')\n",
    "plt.plot(r.history['val_loss'], label='val loss')\n",
    "plt.legend()\n",
    "plt.show()\n",
    "plt.savefig('LossVal_loss')\n",
    "\n",
    "# plot the accuracy\n",
    "plt.plot(r.history['accuracy'], label='train acc')\n",
    "plt.plot(r.history['val_accuracy'], label='val acc')\n",
    "plt.legend()\n",
    "plt.show()\n",
    "plt.savefig('AccVal_acc')"
   ]
  },
  {
   "cell_type": "code",
   "execution_count": 83,
   "id": "77950876",
   "metadata": {},
   "outputs": [],
   "source": [
    "# save it as a h5 file\n",
    "from tensorflow.keras.models import load_model\n",
    "\n",
    "model.save('model_vgg19.h5')"
   ]
  },
  {
   "cell_type": "code",
   "execution_count": 84,
   "id": "d555c855",
   "metadata": {},
   "outputs": [],
   "source": [
    "y_pred = model.predict(test_set)"
   ]
  },
  {
   "cell_type": "code",
   "execution_count": 85,
   "id": "4873b409",
   "metadata": {},
   "outputs": [
    {
     "data": {
      "text/plain": [
       "array([[9.99181926e-01, 8.18119152e-04],\n",
       "       [9.97238278e-01, 2.76168529e-03],\n",
       "       [9.72061157e-01, 2.79388279e-02],\n",
       "       [2.36701101e-01, 7.63298929e-01],\n",
       "       [3.06531161e-01, 6.93468809e-01],\n",
       "       [2.36595854e-01, 7.63404131e-01],\n",
       "       [5.57105303e-01, 4.42894697e-01],\n",
       "       [6.30367577e-01, 3.69632363e-01],\n",
       "       [6.22881874e-02, 9.37711835e-01],\n",
       "       [1.41092479e-01, 8.58907521e-01],\n",
       "       [9.81412411e-01, 1.85875408e-02],\n",
       "       [9.08370018e-02, 9.09162998e-01],\n",
       "       [8.91018882e-02, 9.10898089e-01],\n",
       "       [2.19509080e-01, 7.80490935e-01],\n",
       "       [1.08946092e-01, 8.91053915e-01],\n",
       "       [1.25584304e-01, 8.74415696e-01],\n",
       "       [7.69908056e-02, 9.23009157e-01],\n",
       "       [9.73344266e-01, 2.66557354e-02],\n",
       "       [9.51285422e-01, 4.87146229e-02],\n",
       "       [9.70048428e-01, 2.99516171e-02],\n",
       "       [1.37931868e-01, 8.62068117e-01],\n",
       "       [7.76223421e-01, 2.23776594e-01],\n",
       "       [3.62765491e-01, 6.37234509e-01],\n",
       "       [8.63622963e-01, 1.36377066e-01],\n",
       "       [9.83310819e-01, 1.66892186e-02],\n",
       "       [8.93690884e-01, 1.06309131e-01],\n",
       "       [1.52874246e-01, 8.47125769e-01],\n",
       "       [2.81823277e-01, 7.18176723e-01],\n",
       "       [7.84193695e-01, 2.15806231e-01],\n",
       "       [9.95963037e-01, 4.03701933e-03],\n",
       "       [9.94341731e-01, 5.65824471e-03],\n",
       "       [2.31623694e-01, 7.68376291e-01],\n",
       "       [4.80768442e-01, 5.19231617e-01],\n",
       "       [2.72377759e-01, 7.27622211e-01],\n",
       "       [9.44926858e-01, 5.50731793e-02],\n",
       "       [2.82808870e-01, 7.17191100e-01],\n",
       "       [1.88581333e-01, 8.11418712e-01],\n",
       "       [5.62578261e-01, 4.37421679e-01],\n",
       "       [3.34521562e-01, 6.65478468e-01],\n",
       "       [5.37118614e-01, 4.62881327e-01],\n",
       "       [9.64452505e-01, 3.55475210e-02],\n",
       "       [7.10301042e-01, 2.89698958e-01],\n",
       "       [9.97748911e-01, 2.25105253e-03],\n",
       "       [8.85064900e-01, 1.14935122e-01],\n",
       "       [8.25280130e-01, 1.74719870e-01],\n",
       "       [1.34053737e-01, 8.65946233e-01],\n",
       "       [8.77941132e-01, 1.22058921e-01],\n",
       "       [2.65939891e-01, 7.34060049e-01],\n",
       "       [5.12554049e-01, 4.87445921e-01],\n",
       "       [7.43245900e-01, 2.56754011e-01],\n",
       "       [9.96092021e-01, 3.90797947e-03],\n",
       "       [9.90619898e-01, 9.38007794e-03],\n",
       "       [9.83465314e-01, 1.65347047e-02],\n",
       "       [1.76722407e-01, 8.23277533e-01],\n",
       "       [9.97028291e-01, 2.97170784e-03],\n",
       "       [9.84935820e-01, 1.50641790e-02],\n",
       "       [5.53268753e-02, 9.44673181e-01],\n",
       "       [9.89228249e-01, 1.07717048e-02],\n",
       "       [9.98145103e-01, 1.85485149e-03],\n",
       "       [9.50886309e-01, 4.91137058e-02],\n",
       "       [3.36205699e-02, 9.66379404e-01],\n",
       "       [3.00105125e-01, 6.99894845e-01],\n",
       "       [8.46741870e-02, 9.15325820e-01],\n",
       "       [9.88611281e-01, 1.13887470e-02],\n",
       "       [4.90818411e-01, 5.09181559e-01],\n",
       "       [2.83190995e-01, 7.16809034e-01],\n",
       "       [7.86347866e-01, 2.13652089e-01],\n",
       "       [8.67018878e-01, 1.32981092e-01],\n",
       "       [9.99032974e-01, 9.67035769e-04],\n",
       "       [5.77901661e-01, 4.22098279e-01],\n",
       "       [3.57972682e-01, 6.42027318e-01],\n",
       "       [2.21481845e-01, 7.78518140e-01],\n",
       "       [9.86118436e-01, 1.38815613e-02],\n",
       "       [8.56643021e-01, 1.43357053e-01],\n",
       "       [9.94152248e-01, 5.84778702e-03],\n",
       "       [9.09236014e-01, 9.07639340e-02],\n",
       "       [9.99883533e-01, 1.16453470e-04],\n",
       "       [2.83401608e-01, 7.16598451e-01],\n",
       "       [2.31180683e-01, 7.68819273e-01],\n",
       "       [1.23558261e-01, 8.76441717e-01],\n",
       "       [1.12655669e-01, 8.87344301e-01],\n",
       "       [5.02678081e-02, 9.49732125e-01],\n",
       "       [9.94917750e-01, 5.08227898e-03],\n",
       "       [2.38579437e-01, 7.61420548e-01],\n",
       "       [1.09606847e-01, 8.90393198e-01],\n",
       "       [1.10588402e-01, 8.89411569e-01],\n",
       "       [5.10715127e-01, 4.89284873e-01],\n",
       "       [6.74264610e-01, 3.25735450e-01],\n",
       "       [7.72394598e-01, 2.27605343e-01],\n",
       "       [9.88771856e-01, 1.12281274e-02],\n",
       "       [8.51077795e-01, 1.48922250e-01],\n",
       "       [9.84943390e-01, 1.50566325e-02],\n",
       "       [8.45028520e-01, 1.54971555e-01],\n",
       "       [8.70065689e-01, 1.29934236e-01],\n",
       "       [3.58837873e-01, 6.41162097e-01],\n",
       "       [7.15006053e-01, 2.84993947e-01],\n",
       "       [9.98884141e-01, 1.11591013e-03],\n",
       "       [5.20634115e-01, 4.79365885e-01],\n",
       "       [3.13485384e-01, 6.86514616e-01],\n",
       "       [1.28002554e-01, 8.71997416e-01],\n",
       "       [8.41823697e-01, 1.58176363e-01],\n",
       "       [2.84800500e-01, 7.15199530e-01],\n",
       "       [9.96910632e-01, 3.08935717e-03],\n",
       "       [7.05780029e-01, 2.94219911e-01],\n",
       "       [1.94082737e-01, 8.05917263e-01],\n",
       "       [6.64707243e-01, 3.35292816e-01],\n",
       "       [8.88210773e-01, 1.11789249e-01],\n",
       "       [2.46458247e-01, 7.53541768e-01],\n",
       "       [1.89968124e-01, 8.10031950e-01],\n",
       "       [9.89962399e-01, 1.00376224e-02],\n",
       "       [3.25990081e-01, 6.74009979e-01],\n",
       "       [1.40329525e-01, 8.59670520e-01],\n",
       "       [5.42739272e-01, 4.57260728e-01],\n",
       "       [1.01315551e-01, 8.98684442e-01],\n",
       "       [9.97777998e-01, 2.22203135e-03],\n",
       "       [8.34198236e-01, 1.65801823e-01],\n",
       "       [1.21197335e-01, 8.78802657e-01],\n",
       "       [6.62776232e-02, 9.33722436e-01],\n",
       "       [6.45296872e-01, 3.54703158e-01],\n",
       "       [9.66170058e-02, 9.03383017e-01],\n",
       "       [5.98212123e-01, 4.01787907e-01],\n",
       "       [3.81515294e-01, 6.18484676e-01],\n",
       "       [9.65927184e-01, 3.40728834e-02],\n",
       "       [1.36842236e-01, 8.63157749e-01],\n",
       "       [5.28240919e-01, 4.71759140e-01],\n",
       "       [9.96005833e-01, 3.99418641e-03],\n",
       "       [5.56969821e-01, 4.43030208e-01],\n",
       "       [9.91775513e-01, 8.22444074e-03],\n",
       "       [9.99970913e-01, 2.90965927e-05],\n",
       "       [5.56325912e-01, 4.43674088e-01],\n",
       "       [1.18975013e-01, 8.81024957e-01],\n",
       "       [7.37748146e-02, 9.26225126e-01],\n",
       "       [9.99663472e-01, 3.36510129e-04],\n",
       "       [3.47127408e-01, 6.52872682e-01]], dtype=float32)"
      ]
     },
     "execution_count": 85,
     "metadata": {},
     "output_type": "execute_result"
    }
   ],
   "source": [
    "y_pred # 1st folder is at label index 0(Parasite), 2nd folder is at label index 1(Uninfected)"
   ]
  },
  {
   "cell_type": "code",
   "execution_count": 86,
   "id": "a6119e3a",
   "metadata": {},
   "outputs": [],
   "source": [
    "import numpy as np\n",
    "y_pred = np.argmax(y_pred,axis=1)"
   ]
  },
  {
   "cell_type": "code",
   "execution_count": 87,
   "id": "65634a8b",
   "metadata": {},
   "outputs": [
    {
     "data": {
      "text/plain": [
       "array([0, 0, 0, 1, 1, 1, 0, 0, 1, 1, 0, 1, 1, 1, 1, 1, 1, 0, 0, 0, 1, 0,\n",
       "       1, 0, 0, 0, 1, 1, 0, 0, 0, 1, 1, 1, 0, 1, 1, 0, 1, 0, 0, 0, 0, 0,\n",
       "       0, 1, 0, 1, 0, 0, 0, 0, 0, 1, 0, 0, 1, 0, 0, 0, 1, 1, 1, 0, 1, 1,\n",
       "       0, 0, 0, 0, 1, 1, 0, 0, 0, 0, 0, 1, 1, 1, 1, 1, 0, 1, 1, 1, 0, 0,\n",
       "       0, 0, 0, 0, 0, 0, 1, 0, 0, 0, 1, 1, 0, 1, 0, 0, 1, 0, 0, 1, 1, 0,\n",
       "       1, 1, 0, 1, 0, 0, 1, 1, 0, 1, 0, 1, 0, 1, 0, 0, 0, 0, 0, 0, 1, 1,\n",
       "       0, 1])"
      ]
     },
     "execution_count": 87,
     "metadata": {},
     "output_type": "execute_result"
    }
   ],
   "source": [
    "y_pred # 0-Parasite, 1-Uninfected"
   ]
  },
  {
   "cell_type": "markdown",
   "id": "a33d7462",
   "metadata": {},
   "source": [
    "## Loading Model"
   ]
  },
  {
   "cell_type": "code",
   "execution_count": 88,
   "id": "c731926c",
   "metadata": {},
   "outputs": [],
   "source": [
    "from tensorflow.keras.models import load_model\n",
    "from tensorflow.keras.preprocessing import image"
   ]
  },
  {
   "cell_type": "code",
   "execution_count": 89,
   "id": "ca7b55a9",
   "metadata": {},
   "outputs": [],
   "source": [
    "model = load_model('model_vgg19.h5')"
   ]
  },
  {
   "cell_type": "code",
   "execution_count": 90,
   "id": "c3d55dbb",
   "metadata": {},
   "outputs": [],
   "source": [
    "def predict(img):\n",
    "    x = image.img_to_array(img)\n",
    "    print('x.shape : ', x.shape)\n",
    "    x=x/255 # Normalizing\n",
    "    x=np.expand_dims(x,axis=0)\n",
    "    print('x.shape after expanding : ', x.shape)\n",
    "    img_data = preprocess_input(x)\n",
    "    print('img_data.shape : ', img_data.shape)\n",
    "    pred = model.predict(img_data)\n",
    "    print(pred)\n",
    "    # np.argmax - Returns the indices of the maximum values along an axis.\n",
    "    # Since 1st folder in train is Parasite, its prediction will be available in index=0, unaffected(2nd folder) in index=1\n",
    "    if np.argmax(pred,axis=1) == 1:\n",
    "        print(\"Uninfected\")\n",
    "    else:\n",
    "        print(\"Infected\")    "
   ]
  },
  {
   "cell_type": "code",
   "execution_count": 91,
   "id": "96635c71",
   "metadata": {},
   "outputs": [],
   "source": [
    "img = image.load_img('Dataset/Test/Uninfected/2.png', target_size=(224,224))"
   ]
  },
  {
   "cell_type": "code",
   "execution_count": 92,
   "id": "65c449fb",
   "metadata": {},
   "outputs": [
    {
     "name": "stdout",
     "output_type": "stream",
     "text": [
      "x.shape :  (224, 224, 3)\n",
      "x.shape after expanding :  (1, 224, 224, 3)\n",
      "img_data.shape :  (1, 224, 224, 3)\n",
      "[[0.2298285 0.7701715]]\n",
      "Uninfected\n"
     ]
    }
   ],
   "source": [
    "predict(img)"
   ]
  },
  {
   "cell_type": "code",
   "execution_count": 93,
   "id": "9f49de11",
   "metadata": {},
   "outputs": [
    {
     "data": {
      "text/plain": [
       "array([1])"
      ]
     },
     "execution_count": 93,
     "metadata": {},
     "output_type": "execute_result"
    }
   ],
   "source": [
    "v = np.argmax(np.array([[0.2,0.8]]),axis=1) # np.argmax - Returns the indices of the maximum values along an axis.\n",
    "v"
   ]
  },
  {
   "cell_type": "markdown",
   "id": "30f7edb5",
   "metadata": {},
   "source": [
    "### Before prediction is wrong since we haven't trained with many images & with multiple epoch "
   ]
  },
  {
   "cell_type": "code",
   "execution_count": 95,
   "id": "c7939c6e",
   "metadata": {},
   "outputs": [
    {
     "name": "stdout",
     "output_type": "stream",
     "text": [
      "x.shape :  (224, 224, 3)\n",
      "x.shape after expanding :  (1, 224, 224, 3)\n",
      "img_data.shape :  (1, 224, 224, 3)\n",
      "[[0.23669331 0.76330674]]\n",
      "Uninfected\n"
     ]
    }
   ],
   "source": [
    "predict(image.load_img('Dataset/Test/Parasite/C39P4thinF_original_IMG_20150622_105554_cell_15.png', target_size=(224,224)))"
   ]
  },
  {
   "cell_type": "code",
   "execution_count": null,
   "id": "28e85582",
   "metadata": {},
   "outputs": [],
   "source": []
  }
 ],
 "metadata": {
  "kernelspec": {
   "display_name": "Python 3",
   "language": "python",
   "name": "python3"
  },
  "language_info": {
   "codemirror_mode": {
    "name": "ipython",
    "version": 3
   },
   "file_extension": ".py",
   "mimetype": "text/x-python",
   "name": "python",
   "nbconvert_exporter": "python",
   "pygments_lexer": "ipython3",
   "version": "3.8.5"
  }
 },
 "nbformat": 4,
 "nbformat_minor": 5
}
