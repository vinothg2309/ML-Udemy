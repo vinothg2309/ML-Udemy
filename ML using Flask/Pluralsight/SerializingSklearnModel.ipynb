{
 "cells": [
  {
   "cell_type": "markdown",
   "metadata": {},
   "source": [
    "# Json Serialization"
   ]
  },
  {
   "cell_type": "markdown",
   "metadata": {},
   "source": [
    "## Json serialization has serious drawbacks - V can serialize only know parameters(coefficeient & interceptor in Linear regression).\n",
    "## In case of other(decision) algorithm, we have 'n' number of parameters to save which is ineffecient in json serialization"
   ]
  },
  {
   "cell_type": "code",
   "execution_count": 1,
   "metadata": {},
   "outputs": [],
   "source": [
    "import pandas as pd\n",
    "import numpy as np\n",
    "from sklearn.model_selection import train_test_split\n",
    "from sklearn.linear_model import LinearRegression\n",
    "from sklearn.metrics import r2_score"
   ]
  },
  {
   "cell_type": "code",
   "execution_count": 2,
   "metadata": {},
   "outputs": [
    {
     "data": {
      "text/html": [
       "<div>\n",
       "<style scoped>\n",
       "    .dataframe tbody tr th:only-of-type {\n",
       "        vertical-align: middle;\n",
       "    }\n",
       "\n",
       "    .dataframe tbody tr th {\n",
       "        vertical-align: top;\n",
       "    }\n",
       "\n",
       "    .dataframe thead th {\n",
       "        text-align: right;\n",
       "    }\n",
       "</style>\n",
       "<table border=\"1\" class=\"dataframe\">\n",
       "  <thead>\n",
       "    <tr style=\"text-align: right;\">\n",
       "      <th></th>\n",
       "      <th>car_ID</th>\n",
       "      <th>symboling</th>\n",
       "      <th>CarName</th>\n",
       "      <th>fueltype</th>\n",
       "      <th>aspiration</th>\n",
       "      <th>doornumber</th>\n",
       "      <th>carbody</th>\n",
       "      <th>drivewheel</th>\n",
       "      <th>enginelocation</th>\n",
       "      <th>wheelbase</th>\n",
       "      <th>...</th>\n",
       "      <th>enginesize</th>\n",
       "      <th>fuelsystem</th>\n",
       "      <th>boreratio</th>\n",
       "      <th>stroke</th>\n",
       "      <th>compressionratio</th>\n",
       "      <th>horsepower</th>\n",
       "      <th>peakrpm</th>\n",
       "      <th>citympg</th>\n",
       "      <th>highwaympg</th>\n",
       "      <th>price</th>\n",
       "    </tr>\n",
       "  </thead>\n",
       "  <tbody>\n",
       "    <tr>\n",
       "      <th>0</th>\n",
       "      <td>1</td>\n",
       "      <td>3</td>\n",
       "      <td>alfa-romero giulia</td>\n",
       "      <td>gas</td>\n",
       "      <td>std</td>\n",
       "      <td>two</td>\n",
       "      <td>convertible</td>\n",
       "      <td>rwd</td>\n",
       "      <td>front</td>\n",
       "      <td>88.6</td>\n",
       "      <td>...</td>\n",
       "      <td>130</td>\n",
       "      <td>mpfi</td>\n",
       "      <td>3.47</td>\n",
       "      <td>2.68</td>\n",
       "      <td>9.0</td>\n",
       "      <td>111</td>\n",
       "      <td>5000</td>\n",
       "      <td>21</td>\n",
       "      <td>27</td>\n",
       "      <td>13495.0</td>\n",
       "    </tr>\n",
       "    <tr>\n",
       "      <th>1</th>\n",
       "      <td>2</td>\n",
       "      <td>3</td>\n",
       "      <td>alfa-romero stelvio</td>\n",
       "      <td>gas</td>\n",
       "      <td>std</td>\n",
       "      <td>two</td>\n",
       "      <td>convertible</td>\n",
       "      <td>rwd</td>\n",
       "      <td>front</td>\n",
       "      <td>88.6</td>\n",
       "      <td>...</td>\n",
       "      <td>130</td>\n",
       "      <td>mpfi</td>\n",
       "      <td>3.47</td>\n",
       "      <td>2.68</td>\n",
       "      <td>9.0</td>\n",
       "      <td>111</td>\n",
       "      <td>5000</td>\n",
       "      <td>21</td>\n",
       "      <td>27</td>\n",
       "      <td>16500.0</td>\n",
       "    </tr>\n",
       "    <tr>\n",
       "      <th>2</th>\n",
       "      <td>3</td>\n",
       "      <td>1</td>\n",
       "      <td>alfa-romero Quadrifoglio</td>\n",
       "      <td>gas</td>\n",
       "      <td>std</td>\n",
       "      <td>two</td>\n",
       "      <td>hatchback</td>\n",
       "      <td>rwd</td>\n",
       "      <td>front</td>\n",
       "      <td>94.5</td>\n",
       "      <td>...</td>\n",
       "      <td>152</td>\n",
       "      <td>mpfi</td>\n",
       "      <td>2.68</td>\n",
       "      <td>3.47</td>\n",
       "      <td>9.0</td>\n",
       "      <td>154</td>\n",
       "      <td>5000</td>\n",
       "      <td>19</td>\n",
       "      <td>26</td>\n",
       "      <td>16500.0</td>\n",
       "    </tr>\n",
       "    <tr>\n",
       "      <th>3</th>\n",
       "      <td>4</td>\n",
       "      <td>2</td>\n",
       "      <td>audi 100 ls</td>\n",
       "      <td>gas</td>\n",
       "      <td>std</td>\n",
       "      <td>four</td>\n",
       "      <td>sedan</td>\n",
       "      <td>fwd</td>\n",
       "      <td>front</td>\n",
       "      <td>99.8</td>\n",
       "      <td>...</td>\n",
       "      <td>109</td>\n",
       "      <td>mpfi</td>\n",
       "      <td>3.19</td>\n",
       "      <td>3.40</td>\n",
       "      <td>10.0</td>\n",
       "      <td>102</td>\n",
       "      <td>5500</td>\n",
       "      <td>24</td>\n",
       "      <td>30</td>\n",
       "      <td>13950.0</td>\n",
       "    </tr>\n",
       "    <tr>\n",
       "      <th>4</th>\n",
       "      <td>5</td>\n",
       "      <td>2</td>\n",
       "      <td>audi 100ls</td>\n",
       "      <td>gas</td>\n",
       "      <td>std</td>\n",
       "      <td>four</td>\n",
       "      <td>sedan</td>\n",
       "      <td>4wd</td>\n",
       "      <td>front</td>\n",
       "      <td>99.4</td>\n",
       "      <td>...</td>\n",
       "      <td>136</td>\n",
       "      <td>mpfi</td>\n",
       "      <td>3.19</td>\n",
       "      <td>3.40</td>\n",
       "      <td>8.0</td>\n",
       "      <td>115</td>\n",
       "      <td>5500</td>\n",
       "      <td>18</td>\n",
       "      <td>22</td>\n",
       "      <td>17450.0</td>\n",
       "    </tr>\n",
       "  </tbody>\n",
       "</table>\n",
       "<p>5 rows × 26 columns</p>\n",
       "</div>"
      ],
      "text/plain": [
       "   car_ID  symboling                   CarName fueltype aspiration doornumber  \\\n",
       "0       1          3        alfa-romero giulia      gas        std        two   \n",
       "1       2          3       alfa-romero stelvio      gas        std        two   \n",
       "2       3          1  alfa-romero Quadrifoglio      gas        std        two   \n",
       "3       4          2               audi 100 ls      gas        std       four   \n",
       "4       5          2                audi 100ls      gas        std       four   \n",
       "\n",
       "       carbody drivewheel enginelocation  wheelbase  ...  enginesize  \\\n",
       "0  convertible        rwd          front       88.6  ...         130   \n",
       "1  convertible        rwd          front       88.6  ...         130   \n",
       "2    hatchback        rwd          front       94.5  ...         152   \n",
       "3        sedan        fwd          front       99.8  ...         109   \n",
       "4        sedan        4wd          front       99.4  ...         136   \n",
       "\n",
       "   fuelsystem  boreratio  stroke compressionratio horsepower  peakrpm citympg  \\\n",
       "0        mpfi       3.47    2.68              9.0        111     5000      21   \n",
       "1        mpfi       3.47    2.68              9.0        111     5000      21   \n",
       "2        mpfi       2.68    3.47              9.0        154     5000      19   \n",
       "3        mpfi       3.19    3.40             10.0        102     5500      24   \n",
       "4        mpfi       3.19    3.40              8.0        115     5500      18   \n",
       "\n",
       "   highwaympg    price  \n",
       "0          27  13495.0  \n",
       "1          27  16500.0  \n",
       "2          26  16500.0  \n",
       "3          30  13950.0  \n",
       "4          22  17450.0  \n",
       "\n",
       "[5 rows x 26 columns]"
      ]
     },
     "execution_count": 2,
     "metadata": {},
     "output_type": "execute_result"
    }
   ],
   "source": [
    "automobile_dataset = pd.read_csv(\"datasets/CarPrice_Assignment.csv\")\n",
    "automobile_dataset.head()"
   ]
  },
  {
   "cell_type": "code",
   "execution_count": 3,
   "metadata": {},
   "outputs": [
    {
     "data": {
      "text/plain": [
       "Index(['car_ID', 'symboling', 'CarName', 'fueltype', 'aspiration',\n",
       "       'doornumber', 'carbody', 'drivewheel', 'enginelocation', 'wheelbase',\n",
       "       'carlength', 'carwidth', 'carheight', 'curbweight', 'enginetype',\n",
       "       'cylindernumber', 'enginesize', 'fuelsystem', 'boreratio', 'stroke',\n",
       "       'compressionratio', 'horsepower', 'peakrpm', 'citympg', 'highwaympg',\n",
       "       'price'],\n",
       "      dtype='object')"
      ]
     },
     "execution_count": 3,
     "metadata": {},
     "output_type": "execute_result"
    }
   ],
   "source": [
    "automobile_dataset.columns"
   ]
  },
  {
   "cell_type": "code",
   "execution_count": 4,
   "metadata": {},
   "outputs": [],
   "source": [
    "automobile_dataset.drop(['car_ID', 'symboling','CarName'], axis=1, inplace=True)"
   ]
  },
  {
   "cell_type": "code",
   "execution_count": 5,
   "metadata": {},
   "outputs": [
    {
     "data": {
      "text/plain": [
       "Index(['fueltype', 'aspiration', 'doornumber', 'carbody', 'drivewheel',\n",
       "       'enginelocation', 'wheelbase', 'carlength', 'carwidth', 'carheight',\n",
       "       'curbweight', 'enginetype', 'cylindernumber', 'enginesize',\n",
       "       'fuelsystem', 'boreratio', 'stroke', 'compressionratio', 'horsepower',\n",
       "       'peakrpm', 'citympg', 'highwaympg', 'price'],\n",
       "      dtype='object')"
      ]
     },
     "execution_count": 5,
     "metadata": {},
     "output_type": "execute_result"
    }
   ],
   "source": [
    "automobile_dataset.columns"
   ]
  },
  {
   "cell_type": "code",
   "execution_count": 6,
   "metadata": {},
   "outputs": [],
   "source": [
    "automobile_dataset = pd.get_dummies(automobile_dataset)"
   ]
  },
  {
   "cell_type": "code",
   "execution_count": 7,
   "metadata": {},
   "outputs": [
    {
     "data": {
      "text/html": [
       "<div>\n",
       "<style scoped>\n",
       "    .dataframe tbody tr th:only-of-type {\n",
       "        vertical-align: middle;\n",
       "    }\n",
       "\n",
       "    .dataframe tbody tr th {\n",
       "        vertical-align: top;\n",
       "    }\n",
       "\n",
       "    .dataframe thead th {\n",
       "        text-align: right;\n",
       "    }\n",
       "</style>\n",
       "<table border=\"1\" class=\"dataframe\">\n",
       "  <thead>\n",
       "    <tr style=\"text-align: right;\">\n",
       "      <th></th>\n",
       "      <th>wheelbase</th>\n",
       "      <th>carlength</th>\n",
       "      <th>carwidth</th>\n",
       "      <th>carheight</th>\n",
       "      <th>curbweight</th>\n",
       "      <th>enginesize</th>\n",
       "      <th>boreratio</th>\n",
       "      <th>stroke</th>\n",
       "      <th>compressionratio</th>\n",
       "      <th>horsepower</th>\n",
       "      <th>...</th>\n",
       "      <th>cylindernumber_twelve</th>\n",
       "      <th>cylindernumber_two</th>\n",
       "      <th>fuelsystem_1bbl</th>\n",
       "      <th>fuelsystem_2bbl</th>\n",
       "      <th>fuelsystem_4bbl</th>\n",
       "      <th>fuelsystem_idi</th>\n",
       "      <th>fuelsystem_mfi</th>\n",
       "      <th>fuelsystem_mpfi</th>\n",
       "      <th>fuelsystem_spdi</th>\n",
       "      <th>fuelsystem_spfi</th>\n",
       "    </tr>\n",
       "  </thead>\n",
       "  <tbody>\n",
       "    <tr>\n",
       "      <th>0</th>\n",
       "      <td>88.6</td>\n",
       "      <td>168.8</td>\n",
       "      <td>64.1</td>\n",
       "      <td>48.8</td>\n",
       "      <td>2548</td>\n",
       "      <td>130</td>\n",
       "      <td>3.47</td>\n",
       "      <td>2.68</td>\n",
       "      <td>9.0</td>\n",
       "      <td>111</td>\n",
       "      <td>...</td>\n",
       "      <td>0</td>\n",
       "      <td>0</td>\n",
       "      <td>0</td>\n",
       "      <td>0</td>\n",
       "      <td>0</td>\n",
       "      <td>0</td>\n",
       "      <td>0</td>\n",
       "      <td>1</td>\n",
       "      <td>0</td>\n",
       "      <td>0</td>\n",
       "    </tr>\n",
       "    <tr>\n",
       "      <th>1</th>\n",
       "      <td>88.6</td>\n",
       "      <td>168.8</td>\n",
       "      <td>64.1</td>\n",
       "      <td>48.8</td>\n",
       "      <td>2548</td>\n",
       "      <td>130</td>\n",
       "      <td>3.47</td>\n",
       "      <td>2.68</td>\n",
       "      <td>9.0</td>\n",
       "      <td>111</td>\n",
       "      <td>...</td>\n",
       "      <td>0</td>\n",
       "      <td>0</td>\n",
       "      <td>0</td>\n",
       "      <td>0</td>\n",
       "      <td>0</td>\n",
       "      <td>0</td>\n",
       "      <td>0</td>\n",
       "      <td>1</td>\n",
       "      <td>0</td>\n",
       "      <td>0</td>\n",
       "    </tr>\n",
       "    <tr>\n",
       "      <th>2</th>\n",
       "      <td>94.5</td>\n",
       "      <td>171.2</td>\n",
       "      <td>65.5</td>\n",
       "      <td>52.4</td>\n",
       "      <td>2823</td>\n",
       "      <td>152</td>\n",
       "      <td>2.68</td>\n",
       "      <td>3.47</td>\n",
       "      <td>9.0</td>\n",
       "      <td>154</td>\n",
       "      <td>...</td>\n",
       "      <td>0</td>\n",
       "      <td>0</td>\n",
       "      <td>0</td>\n",
       "      <td>0</td>\n",
       "      <td>0</td>\n",
       "      <td>0</td>\n",
       "      <td>0</td>\n",
       "      <td>1</td>\n",
       "      <td>0</td>\n",
       "      <td>0</td>\n",
       "    </tr>\n",
       "    <tr>\n",
       "      <th>3</th>\n",
       "      <td>99.8</td>\n",
       "      <td>176.6</td>\n",
       "      <td>66.2</td>\n",
       "      <td>54.3</td>\n",
       "      <td>2337</td>\n",
       "      <td>109</td>\n",
       "      <td>3.19</td>\n",
       "      <td>3.40</td>\n",
       "      <td>10.0</td>\n",
       "      <td>102</td>\n",
       "      <td>...</td>\n",
       "      <td>0</td>\n",
       "      <td>0</td>\n",
       "      <td>0</td>\n",
       "      <td>0</td>\n",
       "      <td>0</td>\n",
       "      <td>0</td>\n",
       "      <td>0</td>\n",
       "      <td>1</td>\n",
       "      <td>0</td>\n",
       "      <td>0</td>\n",
       "    </tr>\n",
       "    <tr>\n",
       "      <th>4</th>\n",
       "      <td>99.4</td>\n",
       "      <td>176.6</td>\n",
       "      <td>66.4</td>\n",
       "      <td>54.3</td>\n",
       "      <td>2824</td>\n",
       "      <td>136</td>\n",
       "      <td>3.19</td>\n",
       "      <td>3.40</td>\n",
       "      <td>8.0</td>\n",
       "      <td>115</td>\n",
       "      <td>...</td>\n",
       "      <td>0</td>\n",
       "      <td>0</td>\n",
       "      <td>0</td>\n",
       "      <td>0</td>\n",
       "      <td>0</td>\n",
       "      <td>0</td>\n",
       "      <td>0</td>\n",
       "      <td>1</td>\n",
       "      <td>0</td>\n",
       "      <td>0</td>\n",
       "    </tr>\n",
       "  </tbody>\n",
       "</table>\n",
       "<p>5 rows × 52 columns</p>\n",
       "</div>"
      ],
      "text/plain": [
       "   wheelbase  carlength  carwidth  carheight  curbweight  enginesize  \\\n",
       "0       88.6      168.8      64.1       48.8        2548         130   \n",
       "1       88.6      168.8      64.1       48.8        2548         130   \n",
       "2       94.5      171.2      65.5       52.4        2823         152   \n",
       "3       99.8      176.6      66.2       54.3        2337         109   \n",
       "4       99.4      176.6      66.4       54.3        2824         136   \n",
       "\n",
       "   boreratio  stroke  compressionratio  horsepower  ...  \\\n",
       "0       3.47    2.68               9.0         111  ...   \n",
       "1       3.47    2.68               9.0         111  ...   \n",
       "2       2.68    3.47               9.0         154  ...   \n",
       "3       3.19    3.40              10.0         102  ...   \n",
       "4       3.19    3.40               8.0         115  ...   \n",
       "\n",
       "   cylindernumber_twelve  cylindernumber_two  fuelsystem_1bbl  \\\n",
       "0                      0                   0                0   \n",
       "1                      0                   0                0   \n",
       "2                      0                   0                0   \n",
       "3                      0                   0                0   \n",
       "4                      0                   0                0   \n",
       "\n",
       "   fuelsystem_2bbl  fuelsystem_4bbl  fuelsystem_idi  fuelsystem_mfi  \\\n",
       "0                0                0               0               0   \n",
       "1                0                0               0               0   \n",
       "2                0                0               0               0   \n",
       "3                0                0               0               0   \n",
       "4                0                0               0               0   \n",
       "\n",
       "   fuelsystem_mpfi  fuelsystem_spdi  fuelsystem_spfi  \n",
       "0                1                0                0  \n",
       "1                1                0                0  \n",
       "2                1                0                0  \n",
       "3                1                0                0  \n",
       "4                1                0                0  \n",
       "\n",
       "[5 rows x 52 columns]"
      ]
     },
     "execution_count": 7,
     "metadata": {},
     "output_type": "execute_result"
    }
   ],
   "source": [
    "automobile_dataset.head()"
   ]
  },
  {
   "cell_type": "code",
   "execution_count": 50,
   "metadata": {},
   "outputs": [
    {
     "data": {
      "text/plain": [
       "(205, 52)"
      ]
     },
     "execution_count": 50,
     "metadata": {},
     "output_type": "execute_result"
    }
   ],
   "source": [
    "automobile_dataset.shape"
   ]
  },
  {
   "cell_type": "code",
   "execution_count": 8,
   "metadata": {},
   "outputs": [
    {
     "data": {
      "text/plain": [
       "wheelbase                   88.60\n",
       "carlength                  168.80\n",
       "carwidth                    64.10\n",
       "carheight                   48.80\n",
       "curbweight                2548.00\n",
       "enginesize                 130.00\n",
       "boreratio                    3.47\n",
       "stroke                       2.68\n",
       "compressionratio             9.00\n",
       "horsepower                 111.00\n",
       "peakrpm                   5000.00\n",
       "citympg                     21.00\n",
       "highwaympg                  27.00\n",
       "price                    13495.00\n",
       "fueltype_diesel              0.00\n",
       "fueltype_gas                 1.00\n",
       "aspiration_std               1.00\n",
       "aspiration_turbo             0.00\n",
       "doornumber_four              0.00\n",
       "doornumber_two               1.00\n",
       "carbody_convertible          1.00\n",
       "carbody_hardtop              0.00\n",
       "carbody_hatchback            0.00\n",
       "carbody_sedan                0.00\n",
       "carbody_wagon                0.00\n",
       "drivewheel_4wd               0.00\n",
       "drivewheel_fwd               0.00\n",
       "drivewheel_rwd               1.00\n",
       "enginelocation_front         1.00\n",
       "enginelocation_rear          0.00\n",
       "enginetype_dohc              1.00\n",
       "enginetype_dohcv             0.00\n",
       "enginetype_l                 0.00\n",
       "enginetype_ohc               0.00\n",
       "enginetype_ohcf              0.00\n",
       "enginetype_ohcv              0.00\n",
       "enginetype_rotor             0.00\n",
       "cylindernumber_eight         0.00\n",
       "cylindernumber_five          0.00\n",
       "cylindernumber_four          1.00\n",
       "cylindernumber_six           0.00\n",
       "cylindernumber_three         0.00\n",
       "cylindernumber_twelve        0.00\n",
       "cylindernumber_two           0.00\n",
       "fuelsystem_1bbl              0.00\n",
       "fuelsystem_2bbl              0.00\n",
       "fuelsystem_4bbl              0.00\n",
       "fuelsystem_idi               0.00\n",
       "fuelsystem_mfi               0.00\n",
       "fuelsystem_mpfi              1.00\n",
       "fuelsystem_spdi              0.00\n",
       "fuelsystem_spfi              0.00\n",
       "Name: 0, dtype: float64"
      ]
     },
     "execution_count": 8,
     "metadata": {},
     "output_type": "execute_result"
    }
   ],
   "source": [
    "automobile_dataset.iloc[0]"
   ]
  },
  {
   "cell_type": "code",
   "execution_count": 9,
   "metadata": {},
   "outputs": [
    {
     "data": {
      "text/plain": [
       "(205, 52)"
      ]
     },
     "execution_count": 9,
     "metadata": {},
     "output_type": "execute_result"
    }
   ],
   "source": [
    "automobile_dataset.shape"
   ]
  },
  {
   "cell_type": "code",
   "execution_count": 56,
   "metadata": {},
   "outputs": [
    {
     "name": "stdout",
     "output_type": "stream",
     "text": [
      "<class 'pandas.core.series.Series'>\n"
     ]
    }
   ],
   "source": [
    "X = automobile_dataset.drop('price',axis=1)\n",
    "Y = automobile_dataset['price']\n",
    "print(type(Y))"
   ]
  },
  {
   "cell_type": "code",
   "execution_count": 60,
   "metadata": {},
   "outputs": [
    {
     "name": "stdout",
     "output_type": "stream",
     "text": [
      "(164, 51) (41, 51)\n",
      "<class 'pandas.core.frame.DataFrame'> <class 'pandas.core.frame.DataFrame'>\n",
      "<class 'pandas.core.series.Series'> <class 'pandas.core.series.Series'>\n"
     ]
    }
   ],
   "source": [
    "x_train,x_test,y_train,y_test = train_test_split(X,Y,test_size=0.2)\n",
    "print(x_train.shape,x_test.shape)\n",
    "print(type(x_train),type(x_test))\n",
    "print(type(y_train),type(y_test))"
   ]
  },
  {
   "cell_type": "code",
   "execution_count": 53,
   "metadata": {},
   "outputs": [],
   "source": [
    "with open(\"datasets/automobiles_file1.csv\", \"w\") as file:\n",
    "    file.write(x_train[:81].to_csv(index=False))"
   ]
  },
  {
   "cell_type": "code",
   "execution_count": 54,
   "metadata": {},
   "outputs": [],
   "source": [
    "with open(\"datasets/automobiles_file2.csv\", \"w\") as file:\n",
    "    file.write(automobile_dataset[81:162].to_csv(index=False))"
   ]
  },
  {
   "cell_type": "code",
   "execution_count": 55,
   "metadata": {},
   "outputs": [],
   "source": [
    "with open(\"datasets/automobiles_test.csv\", \"w\") as file:\n",
    "    file.write(automobile_dataset[162:].to_csv(index=False))"
   ]
  },
  {
   "cell_type": "code",
   "execution_count": null,
   "metadata": {},
   "outputs": [],
   "source": []
  },
  {
   "cell_type": "code",
   "execution_count": 12,
   "metadata": {},
   "outputs": [
    {
     "data": {
      "text/plain": [
       "0.9468930606900829"
      ]
     },
     "execution_count": 12,
     "metadata": {},
     "output_type": "execute_result"
    }
   ],
   "source": [
    "model = LinearRegression()\n",
    "model.fit(x_train,y_train)\n",
    "\n",
    "model.score(x_train,y_train)"
   ]
  },
  {
   "cell_type": "code",
   "execution_count": 37,
   "metadata": {},
   "outputs": [
    {
     "data": {
      "text/plain": [
       "0.8741209934909426"
      ]
     },
     "execution_count": 37,
     "metadata": {},
     "output_type": "execute_result"
    }
   ],
   "source": [
    "y_pred = model.predict(x_test)\n",
    "\n",
    "Testing_score = r2_score(y_test,y_pred)\n",
    "Testing_score"
   ]
  },
  {
   "cell_type": "code",
   "execution_count": 14,
   "metadata": {},
   "outputs": [],
   "source": [
    "import json"
   ]
  },
  {
   "cell_type": "code",
   "execution_count": 15,
   "metadata": {},
   "outputs": [
    {
     "data": {
      "text/plain": [
       "array([ 4.90508727e+01, -4.93136228e+01,  5.73906249e+02,  3.30561037e+01,\n",
       "        3.67711956e+00,  9.76393388e+01, -6.03146441e+02, -4.51162357e+03,\n",
       "       -5.80316830e+02,  3.35078085e+01,  2.23882462e+00, -9.92041279e+01,\n",
       "        1.91403669e+02,  3.30980946e+03, -3.30980946e+03, -7.09597896e+02,\n",
       "        7.09597896e+02, -6.24368537e+01,  6.24368537e+01,  2.38120211e+03,\n",
       "       -1.33981631e+03, -6.88229645e+02,  1.22306664e+02, -4.75462815e+02,\n",
       "       -2.53213053e+02, -6.08504595e+02,  8.61717648e+02, -3.27916396e+03,\n",
       "        3.27916396e+03,  6.19842415e+01, -8.43445160e+03,  5.22940563e+02,\n",
       "        5.48430800e+03,  2.69997774e+03, -3.15474200e+03,  2.81998305e+03,\n",
       "        5.63382657e+03, -2.86945792e+03, -4.52719097e+03, -5.59381863e+02,\n",
       "        4.52979628e+03, -5.02757515e+03,  2.81998305e+03,  5.29250542e+02,\n",
       "        4.02055035e+02, -1.32729852e+03,  3.30980946e+03,  0.00000000e+00,\n",
       "        2.66584126e+02, -2.45844692e+03, -7.21953718e+02])"
      ]
     },
     "execution_count": 15,
     "metadata": {},
     "output_type": "execute_result"
    }
   ],
   "source": [
    "model.coef_"
   ]
  },
  {
   "cell_type": "code",
   "execution_count": 17,
   "metadata": {},
   "outputs": [
    {
     "data": {
      "text/plain": [
       "-34511.348619963384"
      ]
     },
     "execution_count": 17,
     "metadata": {},
     "output_type": "execute_result"
    }
   ],
   "source": [
    "model.intercept_"
   ]
  },
  {
   "cell_type": "code",
   "execution_count": 20,
   "metadata": {},
   "outputs": [],
   "source": [
    "model_param = {}\n",
    "model_param['coef'] = list(model.coef_)\n",
    "model_param['intercept'] = model.intercept_.tolist()"
   ]
  },
  {
   "cell_type": "code",
   "execution_count": 21,
   "metadata": {},
   "outputs": [
    {
     "data": {
      "text/plain": [
       "'{\"coef\": [49.050872650498306, -49.31362282317353, 573.906249101688, 33.05610369713881, 3.6771195568917108, 97.63933876784468, -603.1464409760079, -4511.623570605916, -580.3168295373332, 33.50780848927184, 2.238824620475043, -99.20412788517854, 191.40366909033537, 3309.8094593354485, -3309.80945933544, -709.5978960740575, 709.5978960740763, -62.43685371506024, 62.43685371503196, 2381.2021081819953, -1339.8163120101924, -688.2296450323001, 122.30666435332665, -475.4628154929212, -253.21305309151012, -608.5045952743433, 861.7176483658725, -3279.163961328105, 3279.163961328091, 61.984241519978056, -8434.451597106796, 522.9405634529966, 5484.30799526913, 2699.977744355303, -3154.7419976480987, 2819.983050157496, 5633.826570682385, -2869.4579204570987, -4527.1909693651105, -559.3818630363706, 4529.7962800318755, -5027.575148013175, 2819.9830501574975, 529.2505424631021, 402.055034528643, -1327.2985225218947, 3309.809459335456, 0.0, 266.58412645172183, -2458.4469220220662, -721.9537182349724], \"intercept\": -34511.348619963384}'"
      ]
     },
     "execution_count": 21,
     "metadata": {},
     "output_type": "execute_result"
    }
   ],
   "source": [
    "json_text = json.dumps(model_param)\n",
    "json_text"
   ]
  },
  {
   "cell_type": "code",
   "execution_count": 23,
   "metadata": {},
   "outputs": [],
   "source": [
    "with open(\"models/regressor_params.json\", 'w') as file:\n",
    "    file.write(json_text)"
   ]
  },
  {
   "cell_type": "code",
   "execution_count": 24,
   "metadata": {},
   "outputs": [],
   "source": [
    "with open(\"models/regressor_params.json\", 'r') as file:\n",
    "    json_text = json.load(file)"
   ]
  },
  {
   "cell_type": "code",
   "execution_count": 25,
   "metadata": {},
   "outputs": [
    {
     "data": {
      "text/plain": [
       "{'coef': [49.050872650498306,\n",
       "  -49.31362282317353,\n",
       "  573.906249101688,\n",
       "  33.05610369713881,\n",
       "  3.6771195568917108,\n",
       "  97.63933876784468,\n",
       "  -603.1464409760079,\n",
       "  -4511.623570605916,\n",
       "  -580.3168295373332,\n",
       "  33.50780848927184,\n",
       "  2.238824620475043,\n",
       "  -99.20412788517854,\n",
       "  191.40366909033537,\n",
       "  3309.8094593354485,\n",
       "  -3309.80945933544,\n",
       "  -709.5978960740575,\n",
       "  709.5978960740763,\n",
       "  -62.43685371506024,\n",
       "  62.43685371503196,\n",
       "  2381.2021081819953,\n",
       "  -1339.8163120101924,\n",
       "  -688.2296450323001,\n",
       "  122.30666435332665,\n",
       "  -475.4628154929212,\n",
       "  -253.21305309151012,\n",
       "  -608.5045952743433,\n",
       "  861.7176483658725,\n",
       "  -3279.163961328105,\n",
       "  3279.163961328091,\n",
       "  61.984241519978056,\n",
       "  -8434.451597106796,\n",
       "  522.9405634529966,\n",
       "  5484.30799526913,\n",
       "  2699.977744355303,\n",
       "  -3154.7419976480987,\n",
       "  2819.983050157496,\n",
       "  5633.826570682385,\n",
       "  -2869.4579204570987,\n",
       "  -4527.1909693651105,\n",
       "  -559.3818630363706,\n",
       "  4529.7962800318755,\n",
       "  -5027.575148013175,\n",
       "  2819.9830501574975,\n",
       "  529.2505424631021,\n",
       "  402.055034528643,\n",
       "  -1327.2985225218947,\n",
       "  3309.809459335456,\n",
       "  0.0,\n",
       "  266.58412645172183,\n",
       "  -2458.4469220220662,\n",
       "  -721.9537182349724],\n",
       " 'intercept': -34511.348619963384}"
      ]
     },
     "execution_count": 25,
     "metadata": {},
     "output_type": "execute_result"
    }
   ],
   "source": [
    "json_text"
   ]
  },
  {
   "cell_type": "code",
   "execution_count": 26,
   "metadata": {},
   "outputs": [],
   "source": [
    "json_model = LinearRegression()"
   ]
  },
  {
   "cell_type": "code",
   "execution_count": 29,
   "metadata": {},
   "outputs": [],
   "source": [
    "json_model.coef_ = np.array(json_text['coef'])\n",
    "json_model.intercept_ = np.array(json_text['intercept'])"
   ]
  },
  {
   "cell_type": "code",
   "execution_count": 30,
   "metadata": {},
   "outputs": [
    {
     "data": {
      "text/plain": [
       "0.8741209934909426"
      ]
     },
     "execution_count": 30,
     "metadata": {},
     "output_type": "execute_result"
    }
   ],
   "source": [
    "y_pred = json_model.predict(x_test)\n",
    "# Same r-square value which v got earlier\n",
    "r2_score(y_test,y_pred)"
   ]
  },
  {
   "cell_type": "code",
   "execution_count": 38,
   "metadata": {},
   "outputs": [
    {
     "data": {
      "text/plain": [
       "0.8741209934909426"
      ]
     },
     "execution_count": 38,
     "metadata": {},
     "output_type": "execute_result"
    }
   ],
   "source": [
    "Testing_score"
   ]
  },
  {
   "cell_type": "markdown",
   "metadata": {},
   "source": [
    "# Pickle Serialization"
   ]
  },
  {
   "cell_type": "markdown",
   "metadata": {},
   "source": [
    "### Pickle Serialization - Module which implements protocols for serializing and deserializing Python objects to bytestream - pickling(Serialization) and unpickling(Deserialization) object"
   ]
  },
  {
   "cell_type": "code",
   "execution_count": 32,
   "metadata": {},
   "outputs": [],
   "source": [
    "import pickle"
   ]
  },
  {
   "cell_type": "code",
   "execution_count": 33,
   "metadata": {},
   "outputs": [],
   "source": [
    "# wb - write bytestream\n",
    "pickle.dump(model, open('models/model.pkl', 'wb'))"
   ]
  },
  {
   "cell_type": "code",
   "execution_count": 34,
   "metadata": {},
   "outputs": [],
   "source": [
    "# rb - read bytestream\n",
    "pickle_model = pickle.load(open('models/model.pkl', 'rb'))"
   ]
  },
  {
   "cell_type": "code",
   "execution_count": 35,
   "metadata": {},
   "outputs": [
    {
     "data": {
      "text/plain": [
       "0.8741209934909426"
      ]
     },
     "execution_count": 35,
     "metadata": {},
     "output_type": "execute_result"
    }
   ],
   "source": [
    "y_pred = pickle_model.predict(x_test)\n",
    "# Same r-square value which v got earlier\n",
    "r2_score(y_test,y_pred)"
   ]
  },
  {
   "cell_type": "code",
   "execution_count": 39,
   "metadata": {},
   "outputs": [
    {
     "data": {
      "text/plain": [
       "0.8741209934909426"
      ]
     },
     "execution_count": 39,
     "metadata": {},
     "output_type": "execute_result"
    }
   ],
   "source": [
    "Testing_score"
   ]
  },
  {
   "cell_type": "markdown",
   "metadata": {},
   "source": [
    "# Job lib"
   ]
  },
  {
   "cell_type": "markdown",
   "metadata": {},
   "source": [
    "## Job lib is better fit for serializing scikit-learn model as it works more efficient at storing large multi-dimensional NumPy arrays so works well for models. It works well in large sparse NumPy array, most ML model often holds model as sparse vector. So, its most preferred way."
   ]
  },
  {
   "cell_type": "code",
   "execution_count": 41,
   "metadata": {},
   "outputs": [],
   "source": [
    "import joblib"
   ]
  },
  {
   "cell_type": "code",
   "execution_count": 44,
   "metadata": {},
   "outputs": [],
   "source": [
    "filename = 'models/model.joblib'"
   ]
  },
  {
   "cell_type": "code",
   "execution_count": 45,
   "metadata": {},
   "outputs": [
    {
     "data": {
      "text/plain": [
       "['models/model.joblib']"
      ]
     },
     "execution_count": 45,
     "metadata": {},
     "output_type": "execute_result"
    }
   ],
   "source": [
    "joblib.dump(model, filename)"
   ]
  },
  {
   "cell_type": "code",
   "execution_count": 46,
   "metadata": {},
   "outputs": [],
   "source": [
    "joblib_model = joblib.load('models/model.joblib')"
   ]
  },
  {
   "cell_type": "code",
   "execution_count": 47,
   "metadata": {},
   "outputs": [
    {
     "data": {
      "text/plain": [
       "array([12721.51523937,  8072.22732784,  7258.79042274,  8975.02219438,\n",
       "        6308.61771472, 21284.00642684, 10090.84209325, 11158.32229669,\n",
       "        9055.47355113,  9354.77253061, 10628.94730522, 18022.76782305,\n",
       "       29388.89910074, 17402.77799201, 16412.72274462,  6451.84164648,\n",
       "       11867.27465734, 21417.54268362,  8830.49288194,  7641.35205394,\n",
       "       15705.16339424, 10033.89580603, 11412.63173857, 11413.38559778,\n",
       "        8912.46438938, 37160.8116807 , 21995.48280969, 17916.57986395,\n",
       "       38551.24563844,  7281.41026069, 13413.55022148,  8773.27695078,\n",
       "       11552.02752643, 18726.84920085,  9791.85572768, 16184.17713458,\n",
       "       12372.70639436,  9555.66403353, 16184.17713458, 18473.94943507,\n",
       "        7741.19788829])"
      ]
     },
     "execution_count": 47,
     "metadata": {},
     "output_type": "execute_result"
    }
   ],
   "source": [
    "y_pred = joblib_model.predict(x_test)\n",
    "\n",
    "y_pred"
   ]
  },
  {
   "cell_type": "code",
   "execution_count": 48,
   "metadata": {},
   "outputs": [
    {
     "data": {
      "text/plain": [
       "0.8741209934909426"
      ]
     },
     "execution_count": 48,
     "metadata": {},
     "output_type": "execute_result"
    }
   ],
   "source": [
    "y_pred = pickle_model.predict(x_test)\n",
    "# Same r-square value which v got earlier\n",
    "r2_score(y_test,y_pred)"
   ]
  },
  {
   "cell_type": "code",
   "execution_count": 49,
   "metadata": {},
   "outputs": [
    {
     "data": {
      "text/plain": [
       "0.8741209934909426"
      ]
     },
     "execution_count": 49,
     "metadata": {},
     "output_type": "execute_result"
    }
   ],
   "source": [
    "Testing_score"
   ]
  },
  {
   "cell_type": "code",
   "execution_count": null,
   "metadata": {},
   "outputs": [],
   "source": []
  }
 ],
 "metadata": {
  "kernelspec": {
   "display_name": "Python 3",
   "language": "python",
   "name": "python3"
  },
  "language_info": {
   "codemirror_mode": {
    "name": "ipython",
    "version": 3
   },
   "file_extension": ".py",
   "mimetype": "text/x-python",
   "name": "python",
   "nbconvert_exporter": "python",
   "pygments_lexer": "ipython3",
   "version": "3.8.5"
  }
 },
 "nbformat": 4,
 "nbformat_minor": 4
}
