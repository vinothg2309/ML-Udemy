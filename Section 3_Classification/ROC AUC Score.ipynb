{
 "cells": [
  {
   "cell_type": "markdown",
   "metadata": {},
   "source": [
    "### https://github.com/krishnaik06/Gaussian-Trnasformaion/blob/master/Untitled3.ipynb\n",
    "\n",
    "### https://www.analyticsvidhya.com/blog/2020/06/auc-roc-curve-machine-learning/"
   ]
  },
  {
   "cell_type": "markdown",
   "metadata": {},
   "source": [
    "## Select the Right Threshold values using ROC(Receiver Operating Characteristic) Curve"
   ]
  },
  {
   "cell_type": "code",
   "execution_count": 1,
   "metadata": {},
   "outputs": [],
   "source": [
    "import numpy as np\n",
    "import pandas as pd\n",
    "import matplotlib.pyplot as plt\n",
    "%matplotlib inline\n",
    "import seaborn as sns\n",
    "# roc curve and auc score\n",
    "from sklearn.datasets import make_classification"
   ]
  },
  {
   "cell_type": "code",
   "execution_count": 9,
   "metadata": {},
   "outputs": [],
   "source": [
    "X, y = make_classification(n_samples=2000, n_classes=2, weights=[1,1], random_state=1)"
   ]
  },
  {
   "cell_type": "code",
   "execution_count": 12,
   "metadata": {},
   "outputs": [],
   "source": [
    "from sklearn.model_selection import train_test_split\n",
    "X_train,X_test,y_train,y_test = train_test_split(X,y,test_size=0.3,random_state=1)"
   ]
  },
  {
   "cell_type": "code",
   "execution_count": 13,
   "metadata": {},
   "outputs": [
    {
     "data": {
      "text/plain": [
       "((1400, 20), (1400,), (600, 20), (600,))"
      ]
     },
     "execution_count": 13,
     "metadata": {},
     "output_type": "execute_result"
    }
   ],
   "source": [
    "X_train.shape,y_train.shape,X_test.shape,y_test.shape"
   ]
  },
  {
   "cell_type": "code",
   "execution_count": 14,
   "metadata": {},
   "outputs": [],
   "source": [
    "from sklearn.metrics import roc_curve, roc_auc_score"
   ]
  },
  {
   "cell_type": "markdown",
   "metadata": {},
   "source": [
    "### Random Forests"
   ]
  },
  {
   "cell_type": "code",
   "execution_count": 16,
   "metadata": {},
   "outputs": [
    {
     "name": "stdout",
     "output_type": "stream",
     "text": [
      "[[1.   0.  ]\n",
      " [0.97 0.03]\n",
      " [0.01 0.99]\n",
      " ...\n",
      " [0.97 0.03]\n",
      " [1.   0.  ]\n",
      " [0.3  0.7 ]]\n",
      "RF train roc-auc: 1.0\n",
      "RF test roc-auc: 0.984311111111111\n"
     ]
    }
   ],
   "source": [
    "from sklearn.ensemble import RandomForestClassifier\n",
    "rf_model = RandomForestClassifier()\n",
    "rf_model.fit(X_train,y_train)\n",
    "ytrain_pred = rf_model.predict_proba(X_train)\n",
    "print(ytrain_pred) # It has 2 columns. 1st col - Probability of getting label 0, 2nd col - Probability of getting label 1\n",
    "# We r taking probability of getting label 1\n",
    "print('RF train roc-auc: {}'.format(roc_auc_score(y_train, ytrain_pred[:,1])))\n",
    "ytest_pred = rf_model.predict_proba(X_test)\n",
    "print('RF test roc-auc: {}'.format(roc_auc_score(y_test, ytest_pred[:,1])))"
   ]
  },
  {
   "cell_type": "markdown",
   "metadata": {},
   "source": [
    "### Logistic Regression"
   ]
  },
  {
   "cell_type": "code",
   "execution_count": 17,
   "metadata": {},
   "outputs": [
    {
     "name": "stdout",
     "output_type": "stream",
     "text": [
      "[[9.99688479e-01 3.11520635e-04]\n",
      " [9.99966000e-01 3.39995695e-05]\n",
      " [2.09976771e-02 9.79002323e-01]\n",
      " ...\n",
      " [8.58463348e-01 1.41536652e-01]\n",
      " [9.99422335e-01 5.77665099e-04]\n",
      " [6.07714035e-01 3.92285965e-01]]\n",
      "Logistic train roc-auc: 0.9863568922694498\n",
      "Logistic test roc-auc: 0.9885777777777777\n"
     ]
    }
   ],
   "source": [
    "from sklearn.linear_model import LogisticRegression\n",
    "log_classifier=LogisticRegression()\n",
    "log_classifier.fit(X_train, y_train)\n",
    "ytrain_pred = log_classifier.predict_proba(X_train) # Predicting Probability\n",
    "print(ytrain_pred) # It has 2 columns. 1st col - Probability of getting label 0, 2nd col - Probability of getting label 1\n",
    "# We r taking probability of getting label 1\n",
    "print('Logistic train roc-auc: {}'.format(roc_auc_score(y_train, ytrain_pred[:,1])))\n",
    "ytest_pred = log_classifier.predict_proba(X_test)\n",
    "print('Logistic test roc-auc: {}'.format(roc_auc_score(y_test, ytest_pred[:,1])))"
   ]
  },
  {
   "cell_type": "markdown",
   "metadata": {},
   "source": [
    "### Adaboost Classifier"
   ]
  },
  {
   "cell_type": "code",
   "execution_count": 18,
   "metadata": {},
   "outputs": [
    {
     "name": "stdout",
     "output_type": "stream",
     "text": [
      "[[0.53287087 0.46712913]\n",
      " [0.53997612 0.46002388]\n",
      " [0.45973131 0.54026869]\n",
      " ...\n",
      " [0.51608302 0.48391698]\n",
      " [0.56747475 0.43252525]\n",
      " [0.49714104 0.50285896]]\n",
      "Logistic train roc-auc: 0.9975081174960356\n",
      "Logistic test roc-auc: 0.9826111111111111\n"
     ]
    }
   ],
   "source": [
    "from sklearn.ensemble import AdaBoostClassifier\n",
    "adaboost_classifier=AdaBoostClassifier()\n",
    "adaboost_classifier.fit(X_train, y_train)\n",
    "ytrain_pred = adaboost_classifier.predict_proba(X_train) # Predicting Probability\n",
    "print(ytrain_pred) # It has 2 columns. 1st col - Probability of getting label 0, 2nd col - Probability of getting label 1\n",
    "# We r taking probability of getting label 1\n",
    "print('AdaBoostClassifier train roc-auc: {}'.format(roc_auc_score(y_train, ytrain_pred[:,1])))\n",
    "ytest_pred = adaboost_classifier.predict_proba(X_test)\n",
    "print('AdaBoostClassifier test roc-auc: {}'.format(roc_auc_score(y_test, ytest_pred[:,1])))"
   ]
  },
  {
   "cell_type": "markdown",
   "metadata": {},
   "source": [
    "### KNNClassifier"
   ]
  },
  {
   "cell_type": "code",
   "execution_count": 21,
   "metadata": {},
   "outputs": [
    {
     "name": "stdout",
     "output_type": "stream",
     "text": [
      "[[1.  0. ]\n",
      " [1.  0. ]\n",
      " [0.  1. ]\n",
      " ...\n",
      " [0.6 0.4]\n",
      " [1.  0. ]\n",
      " [0.4 0.6]]\n",
      "KNeighborsClassifier train roc-auc: 0.981670071491109\n",
      "KNeighborsClassifier test roc-auc: 0.9426111111111111\n"
     ]
    }
   ],
   "source": [
    "from sklearn.neighbors import KNeighborsClassifier\n",
    "knn_classifier=KNeighborsClassifier()\n",
    "knn_classifier.fit(X_train, y_train)\n",
    "ytrain_pred = knn_classifier.predict_proba(X_train)\n",
    "print(ytrain_pred) # It has 2 columns. 1st col - Probability of getting label 0, 2nd col - Probability of getting label 1\n",
    "# We r taking probability of getting label 1\n",
    "print('KNeighborsClassifier train roc-auc: {}'.format(roc_auc_score(y_train, ytrain_pred[:,1])))\n",
    "ytest_pred = knn_classifier.predict_proba(X_test)\n",
    "print('KNeighborsClassifier test roc-auc: {}'.format(roc_auc_score(y_test, ytest_pred[:,1])))"
   ]
  },
  {
   "cell_type": "markdown",
   "metadata": {},
   "source": [
    "Now we will focus on selecting the best threshold for maximum accuracy"
   ]
  },
  {
   "cell_type": "code",
   "execution_count": 53,
   "metadata": {},
   "outputs": [
    {
     "name": "stdout",
     "output_type": "stream",
     "text": [
      "0      0.882762\n",
      "1      0.118323\n",
      "2      0.821283\n",
      "3      0.755353\n",
      "4      0.552447\n",
      "         ...   \n",
      "595    0.121340\n",
      "596    0.112845\n",
      "597    0.879197\n",
      "598    0.163217\n",
      "599    0.834857\n",
      "Length: 600, dtype: float64\n"
     ]
    }
   ],
   "source": [
    "pred = []\n",
    "for model in [rf_model,log_classifier,adaboost_classifier,knn_classifier]:\n",
    "    pred.append(pd.Series(model.predict_proba(X_test)[:,1]))\n",
    "#print(pred)\n",
    "final_prediction = pd.concat(pred,axis='columns').mean(axis='columns')\n",
    "print(final_prediction)\n",
    "#print('Ensemble test roc-auc: {}'.format(roc_auc_score(y_test,final_prediction)))"
   ]
  },
  {
   "cell_type": "code",
   "execution_count": 35,
   "metadata": {},
   "outputs": [
    {
     "name": "stdout",
     "output_type": "stream",
     "text": [
      "<class 'pandas.core.frame.DataFrame'>\n",
      "        0         1         2    3\n",
      "0    0.98  0.991861  0.559186  1.0\n",
      "1    0.01  0.000008  0.463282  0.0\n",
      "2    0.98  0.966929  0.538202  0.8\n",
      "3    0.95  0.761539  0.509875  0.8\n",
      "4    0.54  0.779443  0.490344  0.4\n",
      "..    ...       ...       ...  ...\n",
      "595  0.00  0.024239  0.461121  0.0\n",
      "596  0.01  0.000003  0.441377  0.0\n",
      "597  1.00  0.984385  0.532403  1.0\n",
      "598  0.01  0.001147  0.441720  0.2\n",
      "599  0.99  0.989540  0.559890  0.8\n",
      "\n",
      "[600 rows x 4 columns]\n",
      "0      0.882762\n",
      "1      0.118323\n",
      "2      0.821283\n",
      "3      0.755353\n",
      "4      0.552447\n",
      "         ...   \n",
      "595    0.121340\n",
      "596    0.112845\n",
      "597    0.879197\n",
      "598    0.163217\n",
      "599    0.834857\n",
      "Length: 600, dtype: float64\n"
     ]
    }
   ],
   "source": [
    "print(type(pd.concat(pred,axis=1)))\n",
    "print(pd.concat(pred,axis=1))\n",
    "print(pd.concat(pred,axis=1).mean(axis=1))"
   ]
  },
  {
   "cell_type": "markdown",
   "metadata": {},
   "source": [
    "#### Calculate ROC Curve"
   ]
  },
  {
   "cell_type": "code",
   "execution_count": 52,
   "metadata": {},
   "outputs": [
    {
     "data": {
      "text/plain": [
       "array([1.9134413 , 0.9134413 , 0.90406694, 0.90327475, 0.79725303,\n",
       "       0.7955558 , 0.79452438, 0.79412833, 0.78880736, 0.78821156,\n",
       "       0.76474465, 0.76287124, 0.74935853, 0.74887362, 0.71044088,\n",
       "       0.70893711, 0.66037883, 0.65743537, 0.61244697, 0.60675354,\n",
       "       0.60656376, 0.60486186, 0.5996569 , 0.59364346, 0.5915152 ,\n",
       "       0.59050386, 0.57646627, 0.57139283, 0.54105932, 0.53469563,\n",
       "       0.53115858, 0.50616892, 0.45450602, 0.44472765, 0.4421034 ,\n",
       "       0.40936151, 0.40129719, 0.35183098, 0.35086612, 0.23823004,\n",
       "       0.23640421, 0.23349466, 0.22896893, 0.20352808, 0.20348417,\n",
       "       0.12051207, 0.1203351 , 0.10548439])"
      ]
     },
     "execution_count": 52,
     "metadata": {},
     "output_type": "execute_result"
    }
   ],
   "source": [
    "fpr,tpr,thresholds = roc_curve(y_test,final_prediction) # fpr-False Positive Rate,tpr-True Positive Rate\n",
    "thresholds"
   ]
  },
  {
   "cell_type": "code",
   "execution_count": 56,
   "metadata": {},
   "outputs": [
    {
     "data": {
      "text/html": [
       "<div>\n",
       "<style scoped>\n",
       "    .dataframe tbody tr th:only-of-type {\n",
       "        vertical-align: middle;\n",
       "    }\n",
       "\n",
       "    .dataframe tbody tr th {\n",
       "        vertical-align: top;\n",
       "    }\n",
       "\n",
       "    .dataframe thead th {\n",
       "        text-align: right;\n",
       "    }\n",
       "</style>\n",
       "<table border=\"1\" class=\"dataframe\">\n",
       "  <thead>\n",
       "    <tr style=\"text-align: right;\">\n",
       "      <th></th>\n",
       "      <th>thresholds</th>\n",
       "      <th>accuracy</th>\n",
       "    </tr>\n",
       "  </thead>\n",
       "  <tbody>\n",
       "    <tr>\n",
       "      <th>33</th>\n",
       "      <td>0.444728</td>\n",
       "      <td>0.961667</td>\n",
       "    </tr>\n",
       "    <tr>\n",
       "      <th>29</th>\n",
       "      <td>0.534696</td>\n",
       "      <td>0.960000</td>\n",
       "    </tr>\n",
       "    <tr>\n",
       "      <th>34</th>\n",
       "      <td>0.442103</td>\n",
       "      <td>0.960000</td>\n",
       "    </tr>\n",
       "    <tr>\n",
       "      <th>32</th>\n",
       "      <td>0.454506</td>\n",
       "      <td>0.960000</td>\n",
       "    </tr>\n",
       "    <tr>\n",
       "      <th>31</th>\n",
       "      <td>0.506169</td>\n",
       "      <td>0.958333</td>\n",
       "    </tr>\n",
       "  </tbody>\n",
       "</table>\n",
       "</div>"
      ],
      "text/plain": [
       "    thresholds  accuracy\n",
       "33    0.444728  0.961667\n",
       "29    0.534696  0.960000\n",
       "34    0.442103  0.960000\n",
       "32    0.454506  0.960000\n",
       "31    0.506169  0.958333"
      ]
     },
     "execution_count": 56,
     "metadata": {},
     "output_type": "execute_result"
    }
   ],
   "source": [
    "from sklearn.metrics import accuracy_score\n",
    "accuracy_ls = []\n",
    "for thres in thresholds:\n",
    "    y_pred = np.where(final_prediction>thres,1,0)\n",
    "    accuracy_ls.append(accuracy_score(y_test,y_pred,normalize=True))\n",
    "accuracy_df = pd.concat([pd.Series(thresholds),pd.Series(accuracy_ls)], axis=1)\n",
    "accuracy_df.columns = ['thresholds', 'accuracy']\n",
    "accuracy_df.sort_values(by='accuracy', ascending=False, inplace=True)\n",
    "accuracy_df.head()"
   ]
  },
  {
   "cell_type": "code",
   "execution_count": 57,
   "metadata": {},
   "outputs": [],
   "source": [
    "def plot_roc_curve(fpr, tpr):\n",
    "    plt.plot(fpr, tpr, color='orange', label='ROC')\n",
    "    plt.plot([0, 1], [0, 1], color='darkblue', linestyle='--')\n",
    "    plt.xlabel('False Positive Rate')\n",
    "    plt.ylabel('True Positive Rate')\n",
    "    plt.title('Receiver Operating Characteristic (ROC) Curve')\n",
    "    plt.legend()\n",
    "    plt.show()"
   ]
  },
  {
   "cell_type": "markdown",
   "metadata": {},
   "source": [
    "#### An excellent model has AUC near to the 1 which means it has a good measure of separability. A poor model has AUC near to the 0 which means it has the worst measure of separability."
   ]
  },
  {
   "cell_type": "code",
   "execution_count": 58,
   "metadata": {},
   "outputs": [
    {
     "data": {
      "image/png": "[encoded data removed]",
      "text/plain": [
       "<Figure size 432x288 with 1 Axes>"
      ]
     },
     "metadata": {
      "needs_background": "light"
     },
     "output_type": "display_data"
    }
   ],
   "source": [
    "plot_roc_curve(fpr,tpr)"
   ]
  }
 ],
 "metadata": {
  "kernelspec": {
   "display_name": "Python 3",
   "language": "python",
   "name": "python3"
  },
  "language_info": {
   "codemirror_mode": {
    "name": "ipython",
    "version": 3
   },
   "file_extension": ".py",
   "mimetype": "text/x-python",
   "name": "python",
   "nbconvert_exporter": "python",
   "pygments_lexer": "ipython3",
   "version": "3.8.5"
  }
 },
 "nbformat": 4,
 "nbformat_minor": 4
}
